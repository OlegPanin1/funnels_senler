{
 "cells": [
  {
   "cell_type": "markdown",
   "id": "21a283bc",
   "metadata": {},
   "source": [
    "# Исследование воронок в Senler"
   ]
  },
  {
   "cell_type": "markdown",
   "id": "5fdeb0d0",
   "metadata": {},
   "source": [
    "## Введение\n",
    "\n",
    "Я аналитик онлайн-школы Топскул. Отдел маркетинга внедрил две новые автоматизированные воронки, однако их использование не принесло планового количества заявок. Я получил задачу исследовать воронки.\n",
    "\n",
    "**Цель исследования**\n",
    "- Исследовать воронки.\n",
    "\n",
    "**Задачи исследования** \n",
    "- Узнать сколько пользователей доходит до заявки и покупки, а сколько — «застревает» на предыдущих шагах и на каких именно;\n",
    "- Изучить открываемость, конверсии в заявку и продажу, долю отписок.\n",
    "\n",
    "**Описание данных**\n",
    "- EventName — название \"шага\" в воронке;\n",
    "- Users - количество активных пользователей, которые продолжают получать рассылки;\n",
    "- Received - количество пользователей, получивших сообщение в шаге;\n",
    "- Readed - количество пользователей, прочитавших сообщение в шаге.\n",
    "\n",
    "**Ход исследования**\n",
    "- Ознакомление с данными;\n",
    "- Исследование воронки `100 аргументов для сочинения` и `Вся геометрия на ЕГЭ`:\n",
    "     - Рассмотрение следующих показателей: доля отписок, конверсия в заявку, конверсия в продажу;\n",
    "     - Визуализация openrate каждого сообщения в шаге;\n",
    "     - Визуализация воронок;\n",
    "- Ответ на вопросы исследования."
   ]
  },
  {
   "cell_type": "markdown",
   "id": "1c1c557b",
   "metadata": {},
   "source": [
    "## Ознакомление с данными"
   ]
  },
  {
   "cell_type": "markdown",
   "id": "cb7b6e48",
   "metadata": {},
   "source": [
    "Импортируем библиотеки"
   ]
  },
  {
   "cell_type": "code",
   "execution_count": 1,
   "id": "c275e40b",
   "metadata": {},
   "outputs": [],
   "source": [
    "import pandas as pd\n",
    "import matplotlib.pyplot as plt\n",
    "from plotly import graph_objects as go\n",
    "import seaborn as sns\n",
    "import re\n",
    "import warnings\n",
    "warnings.filterwarnings(\"ignore\") \n",
    "from plotly.subplots import make_subplots"
   ]
  },
  {
   "cell_type": "markdown",
   "id": "04d81fee",
   "metadata": {},
   "source": [
    "Импортируем датасеты"
   ]
  },
  {
   "cell_type": "code",
   "execution_count": 2,
   "id": "7d7f8746",
   "metadata": {},
   "outputs": [],
   "source": [
    "events_by_users_rus = pd.read_csv('funnel_arguments.csv', sep=\";\")\n",
    "events_by_users_geometry = pd.read_csv('funnel_geometry.csv', sep=\";\")"
   ]
  },
  {
   "cell_type": "markdown",
   "id": "1a22a49f",
   "metadata": {},
   "source": [
    "Изучим информацию о файлах"
   ]
  },
  {
   "cell_type": "code",
   "execution_count": 3,
   "id": "3d98b942",
   "metadata": {},
   "outputs": [
    {
     "name": "stdout",
     "output_type": "stream",
     "text": [
      "<class 'pandas.core.frame.DataFrame'>\n",
      "RangeIndex: 11 entries, 0 to 10\n",
      "Data columns (total 4 columns):\n",
      " #   Column      Non-Null Count  Dtype \n",
      "---  ------      --------------  ----- \n",
      " 0   event_name  11 non-null     object\n",
      " 1   users       11 non-null     int64 \n",
      " 2   received    11 non-null     int64 \n",
      " 3   readed      11 non-null     int64 \n",
      "dtypes: int64(3), object(1)\n",
      "memory usage: 480.0+ bytes\n"
     ]
    }
   ],
   "source": [
    "events_by_users_rus.info()"
   ]
  },
  {
   "cell_type": "code",
   "execution_count": 4,
   "id": "c0d66c0d",
   "metadata": {},
   "outputs": [
    {
     "data": {
      "text/html": [
       "<div>\n",
       "<style scoped>\n",
       "    .dataframe tbody tr th:only-of-type {\n",
       "        vertical-align: middle;\n",
       "    }\n",
       "\n",
       "    .dataframe tbody tr th {\n",
       "        vertical-align: top;\n",
       "    }\n",
       "\n",
       "    .dataframe thead th {\n",
       "        text-align: right;\n",
       "    }\n",
       "</style>\n",
       "<table border=\"1\" class=\"dataframe\">\n",
       "  <thead>\n",
       "    <tr style=\"text-align: right;\">\n",
       "      <th></th>\n",
       "      <th>event_name</th>\n",
       "      <th>users</th>\n",
       "      <th>received</th>\n",
       "      <th>readed</th>\n",
       "    </tr>\n",
       "  </thead>\n",
       "  <tbody>\n",
       "    <tr>\n",
       "      <th>0</th>\n",
       "      <td>Сегментация</td>\n",
       "      <td>3364</td>\n",
       "      <td>6881</td>\n",
       "      <td>6535</td>\n",
       "    </tr>\n",
       "    <tr>\n",
       "      <th>1</th>\n",
       "      <td>Лид-магнит</td>\n",
       "      <td>3517</td>\n",
       "      <td>5444</td>\n",
       "      <td>4298</td>\n",
       "    </tr>\n",
       "    <tr>\n",
       "      <th>2</th>\n",
       "      <td>Курс по ИС</td>\n",
       "      <td>2720</td>\n",
       "      <td>5254</td>\n",
       "      <td>4134</td>\n",
       "    </tr>\n",
       "    <tr>\n",
       "      <th>3</th>\n",
       "      <td>Видео</td>\n",
       "      <td>2717</td>\n",
       "      <td>4441</td>\n",
       "      <td>1510</td>\n",
       "    </tr>\n",
       "    <tr>\n",
       "      <th>4</th>\n",
       "      <td>Опрос №1</td>\n",
       "      <td>2717</td>\n",
       "      <td>4439</td>\n",
       "      <td>3042</td>\n",
       "    </tr>\n",
       "    <tr>\n",
       "      <th>5</th>\n",
       "      <td>Подготовка к сочинению</td>\n",
       "      <td>2630</td>\n",
       "      <td>4005</td>\n",
       "      <td>2661</td>\n",
       "    </tr>\n",
       "    <tr>\n",
       "      <th>6</th>\n",
       "      <td>Опрос №2</td>\n",
       "      <td>2626</td>\n",
       "      <td>3849</td>\n",
       "      <td>2319</td>\n",
       "    </tr>\n",
       "    <tr>\n",
       "      <th>7</th>\n",
       "      <td>Оффер</td>\n",
       "      <td>2596</td>\n",
       "      <td>3680</td>\n",
       "      <td>3062</td>\n",
       "    </tr>\n",
       "    <tr>\n",
       "      <th>8</th>\n",
       "      <td>Заявка</td>\n",
       "      <td>152</td>\n",
       "      <td>152</td>\n",
       "      <td>152</td>\n",
       "    </tr>\n",
       "    <tr>\n",
       "      <th>9</th>\n",
       "      <td>Автоменеджер</td>\n",
       "      <td>91</td>\n",
       "      <td>91</td>\n",
       "      <td>91</td>\n",
       "    </tr>\n",
       "    <tr>\n",
       "      <th>10</th>\n",
       "      <td>Продаж</td>\n",
       "      <td>1</td>\n",
       "      <td>1</td>\n",
       "      <td>1</td>\n",
       "    </tr>\n",
       "  </tbody>\n",
       "</table>\n",
       "</div>"
      ],
      "text/plain": [
       "                event_name  users  received  readed\n",
       "0              Сегментация   3364      6881    6535\n",
       "1               Лид-магнит   3517      5444    4298\n",
       "2               Курс по ИС   2720      5254    4134\n",
       "3                    Видео   2717      4441    1510\n",
       "4                 Опрос №1   2717      4439    3042\n",
       "5   Подготовка к сочинению   2630      4005    2661\n",
       "6                 Опрос №2   2626      3849    2319\n",
       "7                    Оффер   2596      3680    3062\n",
       "8                   Заявка    152       152     152\n",
       "9             Автоменеджер     91        91      91\n",
       "10                  Продаж      1         1       1"
      ]
     },
     "execution_count": 4,
     "metadata": {},
     "output_type": "execute_result"
    }
   ],
   "source": [
    "events_by_users_rus"
   ]
  },
  {
   "cell_type": "code",
   "execution_count": 5,
   "id": "ad6487c2",
   "metadata": {},
   "outputs": [
    {
     "name": "stdout",
     "output_type": "stream",
     "text": [
      "<class 'pandas.core.frame.DataFrame'>\n",
      "RangeIndex: 17 entries, 0 to 16\n",
      "Data columns (total 4 columns):\n",
      " #   Column      Non-Null Count  Dtype \n",
      "---  ------      --------------  ----- \n",
      " 0   event_name  17 non-null     object\n",
      " 1   users       17 non-null     int64 \n",
      " 2   received    17 non-null     int64 \n",
      " 3   readed      17 non-null     int64 \n",
      "dtypes: int64(3), object(1)\n",
      "memory usage: 672.0+ bytes\n"
     ]
    }
   ],
   "source": [
    "events_by_users_geometry.info()"
   ]
  },
  {
   "cell_type": "code",
   "execution_count": 6,
   "id": "62dd6a63",
   "metadata": {},
   "outputs": [
    {
     "data": {
      "text/html": [
       "<div>\n",
       "<style scoped>\n",
       "    .dataframe tbody tr th:only-of-type {\n",
       "        vertical-align: middle;\n",
       "    }\n",
       "\n",
       "    .dataframe tbody tr th {\n",
       "        vertical-align: top;\n",
       "    }\n",
       "\n",
       "    .dataframe thead th {\n",
       "        text-align: right;\n",
       "    }\n",
       "</style>\n",
       "<table border=\"1\" class=\"dataframe\">\n",
       "  <thead>\n",
       "    <tr style=\"text-align: right;\">\n",
       "      <th></th>\n",
       "      <th>event_name</th>\n",
       "      <th>users</th>\n",
       "      <th>received</th>\n",
       "      <th>readed</th>\n",
       "    </tr>\n",
       "  </thead>\n",
       "  <tbody>\n",
       "    <tr>\n",
       "      <th>0</th>\n",
       "      <td>Приветствие</td>\n",
       "      <td>1128</td>\n",
       "      <td>1646</td>\n",
       "      <td>1276</td>\n",
       "    </tr>\n",
       "    <tr>\n",
       "      <th>1</th>\n",
       "      <td>Сегментация</td>\n",
       "      <td>1122</td>\n",
       "      <td>1607</td>\n",
       "      <td>1276</td>\n",
       "    </tr>\n",
       "    <tr>\n",
       "      <th>2</th>\n",
       "      <td>ЛМ</td>\n",
       "      <td>682</td>\n",
       "      <td>1053</td>\n",
       "      <td>455</td>\n",
       "    </tr>\n",
       "    <tr>\n",
       "      <th>3</th>\n",
       "      <td>Кнопка №1</td>\n",
       "      <td>682</td>\n",
       "      <td>1053</td>\n",
       "      <td>963</td>\n",
       "    </tr>\n",
       "    <tr>\n",
       "      <th>4</th>\n",
       "      <td>Видео №1</td>\n",
       "      <td>682</td>\n",
       "      <td>955</td>\n",
       "      <td>573</td>\n",
       "    </tr>\n",
       "    <tr>\n",
       "      <th>5</th>\n",
       "      <td>Кнопка №2</td>\n",
       "      <td>690</td>\n",
       "      <td>905</td>\n",
       "      <td>382</td>\n",
       "    </tr>\n",
       "    <tr>\n",
       "      <th>6</th>\n",
       "      <td>Видео №2</td>\n",
       "      <td>680</td>\n",
       "      <td>881</td>\n",
       "      <td>340</td>\n",
       "    </tr>\n",
       "    <tr>\n",
       "      <th>7</th>\n",
       "      <td>Кнопка №3</td>\n",
       "      <td>680</td>\n",
       "      <td>851</td>\n",
       "      <td>226</td>\n",
       "    </tr>\n",
       "    <tr>\n",
       "      <th>8</th>\n",
       "      <td>Оффер 1</td>\n",
       "      <td>678</td>\n",
       "      <td>820</td>\n",
       "      <td>559</td>\n",
       "    </tr>\n",
       "    <tr>\n",
       "      <th>9</th>\n",
       "      <td>Контент 1</td>\n",
       "      <td>633</td>\n",
       "      <td>713</td>\n",
       "      <td>153</td>\n",
       "    </tr>\n",
       "    <tr>\n",
       "      <th>10</th>\n",
       "      <td>Лёгкий старт</td>\n",
       "      <td>630</td>\n",
       "      <td>712</td>\n",
       "      <td>405</td>\n",
       "    </tr>\n",
       "    <tr>\n",
       "      <th>11</th>\n",
       "      <td>Опрос 1</td>\n",
       "      <td>606</td>\n",
       "      <td>671</td>\n",
       "      <td>280</td>\n",
       "    </tr>\n",
       "    <tr>\n",
       "      <th>12</th>\n",
       "      <td>Контент 2</td>\n",
       "      <td>512</td>\n",
       "      <td>556</td>\n",
       "      <td>139</td>\n",
       "    </tr>\n",
       "    <tr>\n",
       "      <th>13</th>\n",
       "      <td>Опрос 2</td>\n",
       "      <td>508</td>\n",
       "      <td>556</td>\n",
       "      <td>229</td>\n",
       "    </tr>\n",
       "    <tr>\n",
       "      <th>14</th>\n",
       "      <td>Оффер 2</td>\n",
       "      <td>477</td>\n",
       "      <td>515</td>\n",
       "      <td>233</td>\n",
       "    </tr>\n",
       "    <tr>\n",
       "      <th>15</th>\n",
       "      <td>Заявка</td>\n",
       "      <td>29</td>\n",
       "      <td>29</td>\n",
       "      <td>29</td>\n",
       "    </tr>\n",
       "    <tr>\n",
       "      <th>16</th>\n",
       "      <td>Автоменеджер</td>\n",
       "      <td>23</td>\n",
       "      <td>23</td>\n",
       "      <td>23</td>\n",
       "    </tr>\n",
       "  </tbody>\n",
       "</table>\n",
       "</div>"
      ],
      "text/plain": [
       "      event_name  users  received  readed\n",
       "0    Приветствие   1128      1646    1276\n",
       "1    Сегментация   1122      1607    1276\n",
       "2             ЛМ    682      1053     455\n",
       "3      Кнопка №1    682      1053     963\n",
       "4       Видео №1    682       955     573\n",
       "5      Кнопка №2    690       905     382\n",
       "6       Видео №2    680       881     340\n",
       "7      Кнопка №3    680       851     226\n",
       "8        Оффер 1    678       820     559\n",
       "9      Контент 1    633       713     153\n",
       "10  Лёгкий старт    630       712     405\n",
       "11       Опрос 1    606       671     280\n",
       "12     Контент 2    512       556     139\n",
       "13       Опрос 2    508       556     229\n",
       "14       Оффер 2    477       515     233\n",
       "15        Заявка     29        29      29\n",
       "16  Автоменеджер     23        23      23"
      ]
     },
     "execution_count": 6,
     "metadata": {},
     "output_type": "execute_result"
    }
   ],
   "source": [
    "events_by_users_geometry"
   ]
  },
  {
   "cell_type": "markdown",
   "id": "171f9224",
   "metadata": {},
   "source": [
    "### Вывод\n",
    "\n",
    "- С данными все в порядке, можно приступать к анализу."
   ]
  },
  {
   "cell_type": "markdown",
   "id": "6422ded7",
   "metadata": {},
   "source": [
    "## Воронка `100 аргументов для сочинения`"
   ]
  },
  {
   "cell_type": "markdown",
   "id": "db5411f3",
   "metadata": {},
   "source": [
    "Добавим показатель `openrate`"
   ]
  },
  {
   "cell_type": "code",
   "execution_count": 7,
   "id": "3d242ede",
   "metadata": {},
   "outputs": [
    {
     "data": {
      "text/html": [
       "<div>\n",
       "<style scoped>\n",
       "    .dataframe tbody tr th:only-of-type {\n",
       "        vertical-align: middle;\n",
       "    }\n",
       "\n",
       "    .dataframe tbody tr th {\n",
       "        vertical-align: top;\n",
       "    }\n",
       "\n",
       "    .dataframe thead th {\n",
       "        text-align: right;\n",
       "    }\n",
       "</style>\n",
       "<table border=\"1\" class=\"dataframe\">\n",
       "  <thead>\n",
       "    <tr style=\"text-align: right;\">\n",
       "      <th></th>\n",
       "      <th>event_name</th>\n",
       "      <th>users</th>\n",
       "      <th>received</th>\n",
       "      <th>readed</th>\n",
       "      <th>openrate</th>\n",
       "    </tr>\n",
       "  </thead>\n",
       "  <tbody>\n",
       "    <tr>\n",
       "      <th>0</th>\n",
       "      <td>Сегментация</td>\n",
       "      <td>3364</td>\n",
       "      <td>6881</td>\n",
       "      <td>6535</td>\n",
       "      <td>0.95</td>\n",
       "    </tr>\n",
       "    <tr>\n",
       "      <th>1</th>\n",
       "      <td>Лид-магнит</td>\n",
       "      <td>3517</td>\n",
       "      <td>5444</td>\n",
       "      <td>4298</td>\n",
       "      <td>0.79</td>\n",
       "    </tr>\n",
       "    <tr>\n",
       "      <th>2</th>\n",
       "      <td>Курс по ИС</td>\n",
       "      <td>2720</td>\n",
       "      <td>5254</td>\n",
       "      <td>4134</td>\n",
       "      <td>0.79</td>\n",
       "    </tr>\n",
       "    <tr>\n",
       "      <th>3</th>\n",
       "      <td>Видео</td>\n",
       "      <td>2717</td>\n",
       "      <td>4441</td>\n",
       "      <td>1510</td>\n",
       "      <td>0.34</td>\n",
       "    </tr>\n",
       "    <tr>\n",
       "      <th>4</th>\n",
       "      <td>Опрос №1</td>\n",
       "      <td>2717</td>\n",
       "      <td>4439</td>\n",
       "      <td>3042</td>\n",
       "      <td>0.69</td>\n",
       "    </tr>\n",
       "    <tr>\n",
       "      <th>5</th>\n",
       "      <td>Сочинение</td>\n",
       "      <td>2630</td>\n",
       "      <td>4005</td>\n",
       "      <td>2661</td>\n",
       "      <td>0.66</td>\n",
       "    </tr>\n",
       "    <tr>\n",
       "      <th>6</th>\n",
       "      <td>Опрос №2</td>\n",
       "      <td>2626</td>\n",
       "      <td>3849</td>\n",
       "      <td>2319</td>\n",
       "      <td>0.60</td>\n",
       "    </tr>\n",
       "    <tr>\n",
       "      <th>7</th>\n",
       "      <td>Оффер</td>\n",
       "      <td>2596</td>\n",
       "      <td>3680</td>\n",
       "      <td>3062</td>\n",
       "      <td>0.83</td>\n",
       "    </tr>\n",
       "  </tbody>\n",
       "</table>\n",
       "</div>"
      ],
      "text/plain": [
       "    event_name  users  received  readed  openrate\n",
       "0  Сегментация   3364      6881    6535      0.95\n",
       "1   Лид-магнит   3517      5444    4298      0.79\n",
       "2   Курс по ИС   2720      5254    4134      0.79\n",
       "3        Видео   2717      4441    1510      0.34\n",
       "4     Опрос №1   2717      4439    3042      0.69\n",
       "5    Сочинение   2630      4005    2661      0.66\n",
       "6     Опрос №2   2626      3849    2319      0.60\n",
       "7        Оффер   2596      3680    3062      0.83"
      ]
     },
     "execution_count": 7,
     "metadata": {},
     "output_type": "execute_result"
    }
   ],
   "source": [
    "events_by_users_rus.loc[events_by_users_rus['event_name'] == 'Подготовка к сочинению', 'event_name'] = 'Сочинение'\n",
    "events_by_users_rus['openrate'] = round(events_by_users_rus['readed'] / events_by_users_rus['received'],2)\n",
    "events_by_users_rus.head(8)"
   ]
  },
  {
   "cell_type": "markdown",
   "id": "cbad223b",
   "metadata": {},
   "source": [
    "Рассмотрим показатели оттока клиентов, конверсии в заявку и продажу"
   ]
  },
  {
   "cell_type": "code",
   "execution_count": 8,
   "id": "072a6fd0",
   "metadata": {},
   "outputs": [
    {
     "name": "stdout",
     "output_type": "stream",
     "text": [
      "Доля отписок: 51.11%\n",
      "Конверсия в заявку: 2.21%\n",
      "Конверсия в продажу: 0.66%\n"
     ]
    }
   ],
   "source": [
    "print(f\"Доля отписок: {100 - ((3364/6881) * 100):.2f}%\")\n",
    "print(f\"Конверсия в заявку: {(152/6881) * 100:.2f}%\")\n",
    "print(f\"Конверсия в продажу: {(1/152) * 100:.2f}%\")"
   ]
  },
  {
   "cell_type": "markdown",
   "id": "2204c5d5",
   "metadata": {},
   "source": [
    "Рассмотрим openrate по шагам с помощью графика"
   ]
  },
  {
   "cell_type": "code",
   "execution_count": 9,
   "id": "ca913e7b",
   "metadata": {},
   "outputs": [
    {
     "data": {
      "image/png": "[encoded data removed]",
      "text/plain": [
       "<Figure size 1200x600 with 1 Axes>"
      ]
     },
     "metadata": {},
     "output_type": "display_data"
    }
   ],
   "source": [
    "event_pivot = events_by_users_rus.query('event_name !=\"Заявка\" and event_name !=\"Автоменеджер\" and event_name !=\"Продаж\"').sort_values(by = 'received', ascending = False)\n",
    "\n",
    "plt.figure(figsize=(12,6))\n",
    "sns.barplot(x='openrate', y='event_name', data=event_pivot, palette='gnuplot_r');\n",
    "plt.xlabel('Openrate')\n",
    "# plt.grid()\n",
    "plt.ylabel('Шаги')\n",
    "plt.title('Openrate по шагам')\n",
    "plt.show();"
   ]
  },
  {
   "cell_type": "markdown",
   "id": "274f694d",
   "metadata": {},
   "source": [
    "Визуализируем воронки и наглядно рассмотрим на каких шагах мы теряем пользователей"
   ]
  },
  {
   "cell_type": "code",
   "execution_count": 10,
   "id": "9ddab3fd",
   "metadata": {
    "scrolled": false
   },
   "outputs": [
    {
     "data": {
      "image/svg+xml": [
       "<svg class=\"main-svg\" xmlns=\"http://www.w3.org/2000/svg\" xmlns:xlink=\"http://www.w3.org/1999/xlink\" width=\"1000\" height=\"500\" style=\"\" viewBox=\"0 0 1000 500\"><rect x=\"0\" y=\"0\" width=\"1000\" height=\"500\" style=\"fill: rgb(255, 255, 255); fill-opacity: 1;\"/><defs id=\"defs-2f919c\"><g class=\"clips\"><clipPath id=\"clip2f919cxyplot\" class=\"plotclip\"><rect width=\"308.25\" height=\"320\"/></clipPath><clipPath id=\"clip2f919cx2y2plot\" class=\"plotclip\"><rect width=\"308.24999999999994\" height=\"320\"/></clipPath><clipPath class=\"axesclip\" id=\"clip2f919cx\"><rect x=\"105\" y=\"0\" width=\"308.25\" height=\"500\"/></clipPath><clipPath class=\"axesclip\" id=\"clip2f919cy\"><rect x=\"0\" y=\"100\" width=\"1000\" height=\"320\"/></clipPath><clipPath class=\"axesclip\" id=\"clip2f919cxy\"><rect x=\"105\" y=\"100\" width=\"308.25\" height=\"320\"/></clipPath><clipPath class=\"axesclip\" id=\"clip2f919cy2\"><rect x=\"0\" y=\"100\" width=\"1000\" height=\"320\"/></clipPath><clipPath class=\"axesclip\" id=\"clip2f919cxy2\"><rect x=\"105\" y=\"100\" width=\"308.25\" height=\"320\"/></clipPath><clipPath class=\"axesclip\" id=\"clip2f919cx2\"><rect x=\"481.75000000000006\" y=\"0\" width=\"308.24999999999994\" height=\"500\"/></clipPath><clipPath class=\"axesclip\" id=\"clip2f919cx2y\"><rect x=\"481.75000000000006\" y=\"100\" width=\"308.24999999999994\" height=\"320\"/></clipPath><clipPath class=\"axesclip\" id=\"clip2f919cx2y2\"><rect x=\"481.75000000000006\" y=\"100\" width=\"308.24999999999994\" height=\"320\"/></clipPath></g><g class=\"gradients\"/><g class=\"patterns\"/></defs><g class=\"bglayer\"><rect class=\"bg\" x=\"105\" y=\"100\" width=\"308.25\" height=\"320\" style=\"fill: rgb(229, 236, 246); fill-opacity: 1; stroke-width: 0;\"/><rect class=\"bg\" x=\"481.75000000000006\" y=\"100\" width=\"308.24999999999994\" height=\"320\" style=\"fill: rgb(229, 236, 246); fill-opacity: 1; stroke-width: 0;\"/></g><g class=\"layer-below\"><g class=\"imagelayer\"/><g class=\"shapelayer\"/></g><g class=\"cartesianlayer\"><g class=\"subplot xy\"><g class=\"layer-subplot\"><g class=\"shapelayer\"/><g class=\"imagelayer\"/></g><g class=\"minor-gridlayer\"><g class=\"x\"/><g class=\"y\"/></g><g class=\"gridlayer\"><g class=\"x\"/><g class=\"y\"/></g><g class=\"zerolinelayer\"/><path class=\"xlines-below\"/><path class=\"ylines-below\"/><g class=\"overlines-below\"/><g class=\"xaxislayer-below\"/><g class=\"yaxislayer-below\"/><g class=\"overaxes-below\"/><g class=\"plot\" transform=\"translate(105,100)\" clip-path=\"url(#clip2f919cxyplot)\"><g class=\"funnellayer mlayer\"><g class=\"trace bars\" style=\"opacity: 1;\"><g class=\"regions\"><g class=\"region\"><path d=\"M15.41,26.18L44.38,32H263.87L292.84,26.18Z\" style=\"stroke-width: 0; fill: rgb(189, 224, 235); fill-opacity: 1;\"/></g><g class=\"region\"><path d=\"M44.38,55.27L48.21,61.09H260.04L263.87,55.27Z\" style=\"stroke-width: 0; fill: rgb(189, 224, 235); fill-opacity: 1;\"/></g><g class=\"region\"><path d=\"M48.21,84.36L64.6,90.18H243.65L260.04,84.36Z\" style=\"stroke-width: 0; fill: rgb(189, 224, 235); fill-opacity: 1;\"/></g><g class=\"region\"><path d=\"M64.6,113.45L64.64,119.27H243.61L243.65,113.45Z\" style=\"stroke-width: 0; fill: rgb(189, 224, 235); fill-opacity: 1;\"/></g><g class=\"region\"><path d=\"M64.64,142.55L73.39,148.36H234.86L243.61,142.55Z\" style=\"stroke-width: 0; fill: rgb(189, 224, 235); fill-opacity: 1;\"/></g><g class=\"region\"><path d=\"M73.39,171.64L76.53,177.45H231.72L234.86,171.64Z\" style=\"stroke-width: 0; fill: rgb(189, 224, 235); fill-opacity: 1;\"/></g><g class=\"region\"><path d=\"M76.53,200.73L79.94,206.55H228.31L231.72,200.73Z\" style=\"stroke-width: 0; fill: rgb(189, 224, 235); fill-opacity: 1;\"/></g><g class=\"region\"><path d=\"M79.94,229.82L151.06,235.64H157.19L228.31,229.82Z\" style=\"stroke-width: 0; fill: rgb(189, 224, 235); fill-opacity: 1;\"/></g><g class=\"region\"><path d=\"M151.06,258.91L152.29,264.73H155.96L157.19,258.91Z\" style=\"stroke-width: 0; fill: rgb(189, 224, 235); fill-opacity: 1;\"/></g><g class=\"region\"><path d=\"M152.29,288L154.1,293.82H154.15L155.96,288Z\" style=\"stroke-width: 0; fill: rgb(189, 224, 235); fill-opacity: 1;\"/></g><g class=\"region\"><path d=\"M0,0Z\" style=\"stroke-width: 0; fill: rgb(189, 224, 235); fill-opacity: 1;\"/></g></g><g class=\"points\"><g class=\"point\"><path d=\"M15.41,2.91V26.18H292.84V2.91Z\" style=\"vector-effect: non-scaling-stroke; fill: rgb(99, 110, 250); fill-opacity: 1; stroke: rgb(68, 68, 68); stroke-opacity: 1; stroke-width: 0px; opacity: 1;\"/><text class=\"bartext bartext-inside\" text-anchor=\"middle\" data-notex=\"1\" x=\"0\" y=\"0\" style=\"font-family: 'Open Sans', verdana, arial, sans-serif; font-size: 14px; fill: rgb(255, 255, 255); fill-opacity: 1; white-space: pre;\" transform=\"translate(154.125,12.778140257434531)scale(0.4905814469596094)\"><tspan class=\"line\" dy=\"0em\" x=\"0\" y=\"0\">6881</tspan><tspan class=\"line\" dy=\"1.3em\" x=\"0\" y=\"0\">100%</tspan></text></g><g class=\"point\"><path d=\"M44.38,32V55.27H263.87V32Z\" style=\"vector-effect: non-scaling-stroke; fill: rgb(99, 110, 250); fill-opacity: 1; stroke: rgb(68, 68, 68); stroke-opacity: 1; stroke-width: 0px; opacity: 1;\"/><text class=\"bartext bartext-inside\" text-anchor=\"middle\" data-notex=\"1\" x=\"0\" y=\"0\" style=\"font-family: 'Open Sans', verdana, arial, sans-serif; font-size: 14px; fill: rgb(255, 255, 255); fill-opacity: 1; white-space: pre;\" transform=\"translate(154.10200399467377,41.86814025743454)scale(0.4905814469596095)\"><tspan class=\"line\" dy=\"0em\" x=\"0\" y=\"0\">5444</tspan><tspan class=\"line\" dy=\"1.3em\" x=\"0\" y=\"0\">79%</tspan></text></g><g class=\"point\"><path d=\"M48.21,61.09V84.36H260.04V61.09Z\" style=\"vector-effect: non-scaling-stroke; fill: rgb(99, 110, 250); fill-opacity: 1; stroke: rgb(68, 68, 68); stroke-opacity: 1; stroke-width: 0px; opacity: 1;\"/><text class=\"bartext bartext-inside\" text-anchor=\"middle\" data-notex=\"1\" x=\"0\" y=\"0\" style=\"font-family: 'Open Sans', verdana, arial, sans-serif; font-size: 14px; fill: rgb(255, 255, 255); fill-opacity: 1; white-space: pre;\" transform=\"translate(154.10200399467377,70.95814025743452)scale(0.4905814469596093)\"><tspan class=\"line\" dy=\"0em\" x=\"0\" y=\"0\">5254</tspan><tspan class=\"line\" dy=\"1.3em\" x=\"0\" y=\"0\">76%</tspan></text></g><g class=\"point\"><path d=\"M64.6,90.18V113.45H243.65V90.18Z\" style=\"vector-effect: non-scaling-stroke; fill: rgb(99, 110, 250); fill-opacity: 1; stroke: rgb(68, 68, 68); stroke-opacity: 1; stroke-width: 0px; opacity: 1;\"/><text class=\"bartext bartext-inside\" text-anchor=\"middle\" data-notex=\"1\" x=\"0\" y=\"0\" style=\"font-family: 'Open Sans', verdana, arial, sans-serif; font-size: 14px; fill: rgb(255, 255, 255); fill-opacity: 1; white-space: pre;\" transform=\"translate(154.125,100.04814025743453)scale(0.4905814469596093)\"><tspan class=\"line\" dy=\"0em\" x=\"0\" y=\"0\">4441</tspan><tspan class=\"line\" dy=\"1.3em\" x=\"0\" y=\"0\">65%</tspan></text></g><g class=\"point\"><path d=\"M64.64,119.27V142.55H243.61V119.27Z\" style=\"vector-effect: non-scaling-stroke; fill: rgb(99, 110, 250); fill-opacity: 1; stroke: rgb(68, 68, 68); stroke-opacity: 1; stroke-width: 0px; opacity: 1;\"/><text class=\"bartext bartext-inside\" text-anchor=\"middle\" data-notex=\"1\" x=\"0\" y=\"0\" style=\"font-family: 'Open Sans', verdana, arial, sans-serif; font-size: 14px; fill: rgb(255, 255, 255); fill-opacity: 1; white-space: pre;\" transform=\"translate(154.10199067909454,129.1421171770972)scale(0.4908655126498007)\"><tspan class=\"line\" dy=\"0em\" x=\"0\" y=\"0\">4439</tspan><tspan class=\"line\" dy=\"1.3em\" x=\"0\" y=\"0\">65%</tspan></text></g><g class=\"point\"><path d=\"M73.39,148.36V171.64H234.86V148.36Z\" style=\"vector-effect: non-scaling-stroke; fill: rgb(99, 110, 250); fill-opacity: 1; stroke: rgb(68, 68, 68); stroke-opacity: 1; stroke-width: 0px; opacity: 1;\"/><text class=\"bartext bartext-inside\" text-anchor=\"middle\" data-notex=\"1\" x=\"0\" y=\"0\" style=\"font-family: 'Open Sans', verdana, arial, sans-serif; font-size: 14px; fill: rgb(255, 255, 255); fill-opacity: 1; white-space: pre;\" transform=\"translate(154.10199067909454,158.2321171770972)scale(0.4908655126497995)\"><tspan class=\"line\" dy=\"0em\" x=\"0\" y=\"0\">4005</tspan><tspan class=\"line\" dy=\"1.3em\" x=\"0\" y=\"0\">58%</tspan></text></g><g class=\"point\"><path d=\"M76.53,177.45V200.73H231.72V177.45Z\" style=\"vector-effect: non-scaling-stroke; fill: rgb(99, 110, 250); fill-opacity: 1; stroke: rgb(68, 68, 68); stroke-opacity: 1; stroke-width: 0px; opacity: 1;\"/><text class=\"bartext bartext-inside\" text-anchor=\"middle\" data-notex=\"1\" x=\"0\" y=\"0\" style=\"font-family: 'Open Sans', verdana, arial, sans-serif; font-size: 14px; fill: rgb(255, 255, 255); fill-opacity: 1; white-space: pre;\" transform=\"translate(154.10199067909454,187.32211717709717)scale(0.4908655126498003)\"><tspan class=\"line\" dy=\"0em\" x=\"0\" y=\"0\">3849</tspan><tspan class=\"line\" dy=\"1.3em\" x=\"0\" y=\"0\">56%</tspan></text></g><g class=\"point\"><path d=\"M79.94,206.55V229.82H228.31V206.55Z\" style=\"vector-effect: non-scaling-stroke; fill: rgb(99, 110, 250); fill-opacity: 1; stroke: rgb(68, 68, 68); stroke-opacity: 1; stroke-width: 0px; opacity: 1;\"/><text class=\"bartext bartext-inside\" text-anchor=\"middle\" data-notex=\"1\" x=\"0\" y=\"0\" style=\"font-family: 'Open Sans', verdana, arial, sans-serif; font-size: 14px; fill: rgb(255, 255, 255); fill-opacity: 1; white-space: pre;\" transform=\"translate(154.10200399467377,216.41814025743454)scale(0.49058144695960887)\"><tspan class=\"line\" dy=\"0em\" x=\"0\" y=\"0\">3680</tspan><tspan class=\"line\" dy=\"1.3em\" x=\"0\" y=\"0\">53%</tspan></text></g><g class=\"point\"><path d=\"M151.06,235.64V258.91H157.19V235.64Z\" style=\"vector-effect: non-scaling-stroke; fill: rgb(99, 110, 250); fill-opacity: 1; stroke: rgb(68, 68, 68); stroke-opacity: 1; stroke-width: 0px; opacity: 1;\"/><text class=\"bartext bartext-inside\" text-anchor=\"middle\" data-notex=\"1\" x=\"0\" y=\"0\" style=\"font-family: 'Open Sans', verdana, arial, sans-serif; font-size: 14px; fill: rgb(255, 255, 255); fill-opacity: 1; white-space: pre;\" transform=\"translate(154.12477272727273,247.25753787878787)scale(0.0048484848484846785)\"><tspan class=\"line\" dy=\"0em\" x=\"0\" y=\"0\">152</tspan><tspan class=\"line\" dy=\"1.3em\" x=\"0\" y=\"0\">2%</tspan></text></g><g class=\"point\"><path d=\"M152.29,264.73V288H155.96V264.73Z\" style=\"vector-effect: non-scaling-stroke; fill: rgb(99, 110, 250); fill-opacity: 1; stroke: rgb(68, 68, 68); stroke-opacity: 1; stroke-width: 0px; opacity: 1;\"/><text class=\"bartext bartext-inside\" text-anchor=\"middle\" data-notex=\"1\" x=\"0\" y=\"0\" style=\"font-family: 'Open Sans', verdana, arial, sans-serif; font-size: 14px; fill: rgb(255, 255, 255); fill-opacity: 1; white-space: pre;\" transform=\"translate(154.125,275.81354302477183)scale(0.1531160365058677)\"><tspan class=\"line\" dy=\"0em\" x=\"0\" y=\"0\">91</tspan><tspan class=\"line\" dy=\"1.3em\" x=\"0\" y=\"0\">1%</tspan></text></g><g class=\"point\"><path d=\"M154.1,293.82V317.09H154.15V293.82Z\" style=\"vector-effect: non-scaling-stroke; fill: rgb(99, 110, 250); fill-opacity: 1; stroke: rgb(68, 68, 68); stroke-opacity: 1; stroke-width: 0px; opacity: 1;\"/><text class=\"bartext bartext-inside\" text-anchor=\"middle\" data-notex=\"1\" x=\"0\" y=\"0\" style=\"font-family: 'Open Sans', verdana, arial, sans-serif; font-size: 14px; fill: rgb(255, 255, 255); fill-opacity: 1; white-space: pre;\" transform=\"translate(154.125,305.44748696219034)scale(0.0020860495436771367)\"><tspan class=\"line\" dy=\"0em\" x=\"0\" y=\"0\">1</tspan><tspan class=\"line\" dy=\"1.3em\" x=\"0\" y=\"0\">0%</tspan></text></g></g></g></g></g><g class=\"overplot\"/><path class=\"xlines-above crisp\" d=\"M0,0\" style=\"fill: none;\"/><path class=\"ylines-above crisp\" d=\"M0,0\" style=\"fill: none;\"/><g class=\"overlines-above\"/><g class=\"xaxislayer-above\"/><g class=\"yaxislayer-above\"><g class=\"ytick\"><text text-anchor=\"end\" x=\"104\" y=\"4.199999999999999\" transform=\"translate(0,405.45)\" style=\"font-family: 'Open Sans', verdana, arial, sans-serif; font-size: 12px; fill: rgb(42, 63, 95); fill-opacity: 1; white-space: pre; opacity: 1;\">Продаж</text></g><g class=\"ytick\"><text text-anchor=\"end\" x=\"104\" y=\"4.199999999999999\" transform=\"translate(0,376.36)\" style=\"font-family: 'Open Sans', verdana, arial, sans-serif; font-size: 12px; fill: rgb(42, 63, 95); fill-opacity: 1; white-space: pre; opacity: 1;\">Автоменеджер</text></g><g class=\"ytick\"><text text-anchor=\"end\" x=\"104\" y=\"4.199999999999999\" transform=\"translate(0,347.27)\" style=\"font-family: 'Open Sans', verdana, arial, sans-serif; font-size: 12px; fill: rgb(42, 63, 95); fill-opacity: 1; white-space: pre; opacity: 1;\">Заявка</text></g><g class=\"ytick\"><text text-anchor=\"end\" x=\"104\" y=\"4.199999999999999\" transform=\"translate(0,318.18)\" style=\"font-family: 'Open Sans', verdana, arial, sans-serif; font-size: 12px; fill: rgb(42, 63, 95); fill-opacity: 1; white-space: pre; opacity: 1;\">Оффер</text></g><g class=\"ytick\"><text text-anchor=\"end\" x=\"104\" y=\"4.199999999999999\" transform=\"translate(0,289.09000000000003)\" style=\"font-family: 'Open Sans', verdana, arial, sans-serif; font-size: 12px; fill: rgb(42, 63, 95); fill-opacity: 1; white-space: pre; opacity: 1;\">Опрос №2</text></g><g class=\"ytick\"><text text-anchor=\"end\" x=\"104\" y=\"4.199999999999999\" transform=\"translate(0,260)\" style=\"font-family: 'Open Sans', verdana, arial, sans-serif; font-size: 12px; fill: rgb(42, 63, 95); fill-opacity: 1; white-space: pre; opacity: 1;\">Сочинение</text></g><g class=\"ytick\"><text text-anchor=\"end\" x=\"104\" y=\"4.199999999999999\" transform=\"translate(0,230.91)\" style=\"font-family: 'Open Sans', verdana, arial, sans-serif; font-size: 12px; fill: rgb(42, 63, 95); fill-opacity: 1; white-space: pre; opacity: 1;\">Опрос №1</text></g><g class=\"ytick\"><text text-anchor=\"end\" x=\"104\" y=\"4.199999999999999\" transform=\"translate(0,201.82)\" style=\"font-family: 'Open Sans', verdana, arial, sans-serif; font-size: 12px; fill: rgb(42, 63, 95); fill-opacity: 1; white-space: pre; opacity: 1;\">Видео</text></g><g class=\"ytick\"><text text-anchor=\"end\" x=\"104\" y=\"4.199999999999999\" transform=\"translate(0,172.73000000000002)\" style=\"font-family: 'Open Sans', verdana, arial, sans-serif; font-size: 12px; fill: rgb(42, 63, 95); fill-opacity: 1; white-space: pre; opacity: 1;\">Курс по ИС</text></g><g class=\"ytick\"><text text-anchor=\"end\" x=\"104\" y=\"4.199999999999999\" transform=\"translate(0,143.64)\" style=\"font-family: 'Open Sans', verdana, arial, sans-serif; font-size: 12px; fill: rgb(42, 63, 95); fill-opacity: 1; white-space: pre; opacity: 1;\">Лид-магнит</text></g><g class=\"ytick\"><text text-anchor=\"end\" x=\"104\" y=\"4.199999999999999\" transform=\"translate(0,114.55)\" style=\"font-family: 'Open Sans', verdana, arial, sans-serif; font-size: 12px; fill: rgb(42, 63, 95); fill-opacity: 1; white-space: pre; opacity: 1;\">Сегментация</text></g></g><g class=\"overaxes-above\"/></g><g class=\"subplot x2y2\"><g class=\"layer-subplot\"><g class=\"shapelayer\"/><g class=\"imagelayer\"/></g><g class=\"minor-gridlayer\"><g class=\"x2\"/><g class=\"y2\"/></g><g class=\"gridlayer\"><g class=\"x2\"/><g class=\"y2\"/></g><g class=\"zerolinelayer\"/><path class=\"xlines-below\"/><path class=\"ylines-below\"/><g class=\"overlines-below\"/><g class=\"xaxislayer-below\"/><g class=\"yaxislayer-below\"/><g class=\"overaxes-below\"/><g class=\"plot\" transform=\"translate(481.75000000000006,100)\" clip-path=\"url(#clip2f919cx2y2plot)\"><g class=\"funnellayer mlayer\"><g class=\"trace bars\" style=\"opacity: 1;\"><g class=\"regions\"><g class=\"region\"><path d=\"M15.41,26.18L44.38,32H263.87L292.84,26.18Z\" style=\"stroke-width: 0; fill: rgb(189, 224, 235); fill-opacity: 1;\"/></g><g class=\"region\"><path d=\"M44.38,55.27L48.21,61.09H260.04L263.87,55.27Z\" style=\"stroke-width: 0; fill: rgb(189, 224, 235); fill-opacity: 1;\"/></g><g class=\"region\"><path d=\"M48.21,84.36L64.6,90.18H243.65L260.04,84.36Z\" style=\"stroke-width: 0; fill: rgb(189, 224, 235); fill-opacity: 1;\"/></g><g class=\"region\"><path d=\"M64.6,113.45L64.64,119.27H243.61L243.65,113.45Z\" style=\"stroke-width: 0; fill: rgb(189, 224, 235); fill-opacity: 1;\"/></g><g class=\"region\"><path d=\"M64.64,142.55L73.39,148.36H234.86L243.61,142.55Z\" style=\"stroke-width: 0; fill: rgb(189, 224, 235); fill-opacity: 1;\"/></g><g class=\"region\"><path d=\"M73.39,171.64L76.53,177.45H231.72L234.86,171.64Z\" style=\"stroke-width: 0; fill: rgb(189, 224, 235); fill-opacity: 1;\"/></g><g class=\"region\"><path d=\"M76.53,200.73L79.94,206.55H228.31L231.72,200.73Z\" style=\"stroke-width: 0; fill: rgb(189, 224, 235); fill-opacity: 1;\"/></g><g class=\"region\"><path d=\"M79.94,229.82L151.06,235.64H157.19L228.31,229.82Z\" style=\"stroke-width: 0; fill: rgb(189, 224, 235); fill-opacity: 1;\"/></g><g class=\"region\"><path d=\"M151.06,258.91L152.29,264.73H155.96L157.19,258.91Z\" style=\"stroke-width: 0; fill: rgb(189, 224, 235); fill-opacity: 1;\"/></g><g class=\"region\"><path d=\"M152.29,288L154.1,293.82H154.15L155.96,288Z\" style=\"stroke-width: 0; fill: rgb(189, 224, 235); fill-opacity: 1;\"/></g><g class=\"region\"><path d=\"M0,0Z\" style=\"stroke-width: 0; fill: rgb(189, 224, 235); fill-opacity: 1;\"/></g></g><g class=\"points\"><g class=\"point\"><path d=\"M15.41,2.91V26.18H292.84V2.91Z\" style=\"vector-effect: non-scaling-stroke; fill: rgb(239, 85, 59); fill-opacity: 1; stroke: rgb(68, 68, 68); stroke-opacity: 1; stroke-width: 0px; opacity: 1;\"/><text class=\"bartext bartext-inside\" text-anchor=\"middle\" data-notex=\"1\" x=\"0\" y=\"0\" style=\"font-family: 'Open Sans', verdana, arial, sans-serif; font-size: 14px; fill: rgb(255, 255, 255); fill-opacity: 1; white-space: pre;\" transform=\"translate(154.125,12.778140257434531)scale(0.4905814469596094)\"><tspan class=\"line\" dy=\"0em\" x=\"0\" y=\"0\">6881</tspan><tspan class=\"line\" dy=\"1.3em\" x=\"0\" y=\"0\">100%</tspan></text></g><g class=\"point\"><path d=\"M44.38,32V55.27H263.87V32Z\" style=\"vector-effect: non-scaling-stroke; fill: rgb(239, 85, 59); fill-opacity: 1; stroke: rgb(68, 68, 68); stroke-opacity: 1; stroke-width: 0px; opacity: 1;\"/><text class=\"bartext bartext-inside\" text-anchor=\"middle\" data-notex=\"1\" x=\"0\" y=\"0\" style=\"font-family: 'Open Sans', verdana, arial, sans-serif; font-size: 14px; fill: rgb(255, 255, 255); fill-opacity: 1; white-space: pre;\" transform=\"translate(154.10200399467377,41.86814025743454)scale(0.4905814469596095)\"><tspan class=\"line\" dy=\"0em\" x=\"0\" y=\"0\">5444</tspan><tspan class=\"line\" dy=\"1.3em\" x=\"0\" y=\"0\">79%</tspan></text></g><g class=\"point\"><path d=\"M48.21,61.09V84.36H260.04V61.09Z\" style=\"vector-effect: non-scaling-stroke; fill: rgb(239, 85, 59); fill-opacity: 1; stroke: rgb(68, 68, 68); stroke-opacity: 1; stroke-width: 0px; opacity: 1;\"/><text class=\"bartext bartext-inside\" text-anchor=\"middle\" data-notex=\"1\" x=\"0\" y=\"0\" style=\"font-family: 'Open Sans', verdana, arial, sans-serif; font-size: 14px; fill: rgb(255, 255, 255); fill-opacity: 1; white-space: pre;\" transform=\"translate(154.10200399467377,70.95814025743452)scale(0.4905814469596093)\"><tspan class=\"line\" dy=\"0em\" x=\"0\" y=\"0\">5254</tspan><tspan class=\"line\" dy=\"1.3em\" x=\"0\" y=\"0\">97%</tspan></text></g><g class=\"point\"><path d=\"M64.6,90.18V113.45H243.65V90.18Z\" style=\"vector-effect: non-scaling-stroke; fill: rgb(239, 85, 59); fill-opacity: 1; stroke: rgb(68, 68, 68); stroke-opacity: 1; stroke-width: 0px; opacity: 1;\"/><text class=\"bartext bartext-inside\" text-anchor=\"middle\" data-notex=\"1\" x=\"0\" y=\"0\" style=\"font-family: 'Open Sans', verdana, arial, sans-serif; font-size: 14px; fill: rgb(255, 255, 255); fill-opacity: 1; white-space: pre;\" transform=\"translate(154.125,100.04814025743453)scale(0.4905814469596093)\"><tspan class=\"line\" dy=\"0em\" x=\"0\" y=\"0\">4441</tspan><tspan class=\"line\" dy=\"1.3em\" x=\"0\" y=\"0\">85%</tspan></text></g><g class=\"point\"><path d=\"M64.64,119.27V142.55H243.61V119.27Z\" style=\"vector-effect: non-scaling-stroke; fill: rgb(239, 85, 59); fill-opacity: 1; stroke: rgb(68, 68, 68); stroke-opacity: 1; stroke-width: 0px; opacity: 1;\"/><text class=\"bartext bartext-inside\" text-anchor=\"middle\" data-notex=\"1\" x=\"0\" y=\"0\" style=\"font-family: 'Open Sans', verdana, arial, sans-serif; font-size: 14px; fill: rgb(255, 255, 255); fill-opacity: 1; white-space: pre;\" transform=\"translate(154.125,129.1421171770972)scale(0.4908655126498007)\"><tspan class=\"line\" dy=\"0em\" x=\"0\" y=\"0\">4439</tspan><tspan class=\"line\" dy=\"1.3em\" x=\"0\" y=\"0\">100%</tspan></text></g><g class=\"point\"><path d=\"M73.39,148.36V171.64H234.86V148.36Z\" style=\"vector-effect: non-scaling-stroke; fill: rgb(239, 85, 59); fill-opacity: 1; stroke: rgb(68, 68, 68); stroke-opacity: 1; stroke-width: 0px; opacity: 1;\"/><text class=\"bartext bartext-inside\" text-anchor=\"middle\" data-notex=\"1\" x=\"0\" y=\"0\" style=\"font-family: 'Open Sans', verdana, arial, sans-serif; font-size: 14px; fill: rgb(255, 255, 255); fill-opacity: 1; white-space: pre;\" transform=\"translate(154.10199067909454,158.2321171770972)scale(0.4908655126497995)\"><tspan class=\"line\" dy=\"0em\" x=\"0\" y=\"0\">4005</tspan><tspan class=\"line\" dy=\"1.3em\" x=\"0\" y=\"0\">90%</tspan></text></g><g class=\"point\"><path d=\"M76.53,177.45V200.73H231.72V177.45Z\" style=\"vector-effect: non-scaling-stroke; fill: rgb(239, 85, 59); fill-opacity: 1; stroke: rgb(68, 68, 68); stroke-opacity: 1; stroke-width: 0px; opacity: 1;\"/><text class=\"bartext bartext-inside\" text-anchor=\"middle\" data-notex=\"1\" x=\"0\" y=\"0\" style=\"font-family: 'Open Sans', verdana, arial, sans-serif; font-size: 14px; fill: rgb(255, 255, 255); fill-opacity: 1; white-space: pre;\" transform=\"translate(154.10199067909454,187.32211717709717)scale(0.4908655126498003)\"><tspan class=\"line\" dy=\"0em\" x=\"0\" y=\"0\">3849</tspan><tspan class=\"line\" dy=\"1.3em\" x=\"0\" y=\"0\">96%</tspan></text></g><g class=\"point\"><path d=\"M79.94,206.55V229.82H228.31V206.55Z\" style=\"vector-effect: non-scaling-stroke; fill: rgb(239, 85, 59); fill-opacity: 1; stroke: rgb(68, 68, 68); stroke-opacity: 1; stroke-width: 0px; opacity: 1;\"/><text class=\"bartext bartext-inside\" text-anchor=\"middle\" data-notex=\"1\" x=\"0\" y=\"0\" style=\"font-family: 'Open Sans', verdana, arial, sans-serif; font-size: 14px; fill: rgb(255, 255, 255); fill-opacity: 1; white-space: pre;\" transform=\"translate(154.10200399467377,216.41814025743454)scale(0.49058144695960887)\"><tspan class=\"line\" dy=\"0em\" x=\"0\" y=\"0\">3680</tspan><tspan class=\"line\" dy=\"1.3em\" x=\"0\" y=\"0\">96%</tspan></text></g><g class=\"point\"><path d=\"M151.06,235.64V258.91H157.19V235.64Z\" style=\"vector-effect: non-scaling-stroke; fill: rgb(239, 85, 59); fill-opacity: 1; stroke: rgb(68, 68, 68); stroke-opacity: 1; stroke-width: 0px; opacity: 1;\"/><text class=\"bartext bartext-inside\" text-anchor=\"middle\" data-notex=\"1\" x=\"0\" y=\"0\" style=\"font-family: 'Open Sans', verdana, arial, sans-serif; font-size: 14px; fill: rgb(255, 255, 255); fill-opacity: 1; white-space: pre;\" transform=\"translate(154.12477272727273,247.25753787878787)scale(0.0048484848484846785)\"><tspan class=\"line\" dy=\"0em\" x=\"0\" y=\"0\">152</tspan><tspan class=\"line\" dy=\"1.3em\" x=\"0\" y=\"0\">4%</tspan></text></g><g class=\"point\"><path d=\"M152.29,264.73V288H155.96V264.73Z\" style=\"vector-effect: non-scaling-stroke; fill: rgb(239, 85, 59); fill-opacity: 1; stroke: rgb(68, 68, 68); stroke-opacity: 1; stroke-width: 0px; opacity: 1;\"/><text class=\"bartext bartext-inside\" text-anchor=\"middle\" data-notex=\"1\" x=\"0\" y=\"0\" style=\"font-family: 'Open Sans', verdana, arial, sans-serif; font-size: 14px; fill: rgb(255, 255, 255); fill-opacity: 1; white-space: pre;\" transform=\"translate(154.125,275.96293963878327)scale(0.11163498098859365)\"><tspan class=\"line\" dy=\"0em\" x=\"0\" y=\"0\">91</tspan><tspan class=\"line\" dy=\"1.3em\" x=\"0\" y=\"0\">60%</tspan></text></g><g class=\"point\"><path d=\"M154.1,293.82V317.09H154.15V293.82Z\" style=\"vector-effect: non-scaling-stroke; fill: rgb(239, 85, 59); fill-opacity: 1; stroke: rgb(68, 68, 68); stroke-opacity: 1; stroke-width: 0px; opacity: 1;\"/><text class=\"bartext bartext-inside\" text-anchor=\"middle\" data-notex=\"1\" x=\"0\" y=\"0\" style=\"font-family: 'Open Sans', verdana, arial, sans-serif; font-size: 14px; fill: rgb(255, 255, 255); fill-opacity: 1; white-space: pre;\" transform=\"translate(154.125,305.44748696219034)scale(0.0020860495436771367)\"><tspan class=\"line\" dy=\"0em\" x=\"0\" y=\"0\">1</tspan><tspan class=\"line\" dy=\"1.3em\" x=\"0\" y=\"0\">1%</tspan></text></g></g></g></g></g><g class=\"overplot\"/><path class=\"xlines-above crisp\" d=\"M0,0\" style=\"fill: none;\"/><path class=\"ylines-above crisp\" d=\"M0,0\" style=\"fill: none;\"/><g class=\"overlines-above\"/><g class=\"xaxislayer-above\"/><g class=\"yaxislayer-above\"><g class=\"y2tick\"><text text-anchor=\"end\" x=\"480.75000000000006\" y=\"4.199999999999999\" transform=\"translate(0,405.45)\" style=\"font-family: 'Open Sans', verdana, arial, sans-serif; font-size: 12px; fill: rgb(42, 63, 95); fill-opacity: 1; white-space: pre; opacity: 1;\">Продаж</text></g><g class=\"y2tick\"><text text-anchor=\"end\" x=\"480.75000000000006\" y=\"4.199999999999999\" transform=\"translate(0,376.36)\" style=\"font-family: 'Open Sans', verdana, arial, sans-serif; font-size: 12px; fill: rgb(42, 63, 95); fill-opacity: 1; white-space: pre; opacity: 1;\">Автоменеджер</text></g><g class=\"y2tick\"><text text-anchor=\"end\" x=\"480.75000000000006\" y=\"4.199999999999999\" transform=\"translate(0,347.27)\" style=\"font-family: 'Open Sans', verdana, arial, sans-serif; font-size: 12px; fill: rgb(42, 63, 95); fill-opacity: 1; white-space: pre; opacity: 1;\">Заявка</text></g><g class=\"y2tick\"><text text-anchor=\"end\" x=\"480.75000000000006\" y=\"4.199999999999999\" transform=\"translate(0,318.18)\" style=\"font-family: 'Open Sans', verdana, arial, sans-serif; font-size: 12px; fill: rgb(42, 63, 95); fill-opacity: 1; white-space: pre; opacity: 1;\">Оффер</text></g><g class=\"y2tick\"><text text-anchor=\"end\" x=\"480.75000000000006\" y=\"4.199999999999999\" transform=\"translate(0,289.09000000000003)\" style=\"font-family: 'Open Sans', verdana, arial, sans-serif; font-size: 12px; fill: rgb(42, 63, 95); fill-opacity: 1; white-space: pre; opacity: 1;\">Опрос №2</text></g><g class=\"y2tick\"><text text-anchor=\"end\" x=\"480.75000000000006\" y=\"4.199999999999999\" transform=\"translate(0,260)\" style=\"font-family: 'Open Sans', verdana, arial, sans-serif; font-size: 12px; fill: rgb(42, 63, 95); fill-opacity: 1; white-space: pre; opacity: 1;\">Сочинение</text></g><g class=\"y2tick\"><text text-anchor=\"end\" x=\"480.75000000000006\" y=\"4.199999999999999\" transform=\"translate(0,230.91)\" style=\"font-family: 'Open Sans', verdana, arial, sans-serif; font-size: 12px; fill: rgb(42, 63, 95); fill-opacity: 1; white-space: pre; opacity: 1;\">Опрос №1</text></g><g class=\"y2tick\"><text text-anchor=\"end\" x=\"480.75000000000006\" y=\"4.199999999999999\" transform=\"translate(0,201.82)\" style=\"font-family: 'Open Sans', verdana, arial, sans-serif; font-size: 12px; fill: rgb(42, 63, 95); fill-opacity: 1; white-space: pre; opacity: 1;\">Видео</text></g><g class=\"y2tick\"><text text-anchor=\"end\" x=\"480.75000000000006\" y=\"4.199999999999999\" transform=\"translate(0,172.73000000000002)\" style=\"font-family: 'Open Sans', verdana, arial, sans-serif; font-size: 12px; fill: rgb(42, 63, 95); fill-opacity: 1; white-space: pre; opacity: 1;\">Курс по ИС</text></g><g class=\"y2tick\"><text text-anchor=\"end\" x=\"480.75000000000006\" y=\"4.199999999999999\" transform=\"translate(0,143.64)\" style=\"font-family: 'Open Sans', verdana, arial, sans-serif; font-size: 12px; fill: rgb(42, 63, 95); fill-opacity: 1; white-space: pre; opacity: 1;\">Лид-магнит</text></g><g class=\"y2tick\"><text text-anchor=\"end\" x=\"480.75000000000006\" y=\"4.199999999999999\" transform=\"translate(0,114.55)\" style=\"font-family: 'Open Sans', verdana, arial, sans-serif; font-size: 12px; fill: rgb(42, 63, 95); fill-opacity: 1; white-space: pre; opacity: 1;\">Сегментация</text></g></g><g class=\"overaxes-above\"/></g></g><g class=\"polarlayer\"/><g class=\"smithlayer\"/><g class=\"ternarylayer\"/><g class=\"geolayer\"/><g class=\"funnelarealayer\"/><g class=\"pielayer\"/><g class=\"iciclelayer\"/><g class=\"treemaplayer\"/><g class=\"sunburstlayer\"/><g class=\"glimages\"/><defs id=\"topdefs-2f919c\"><g class=\"clips\"/><clipPath id=\"legend2f919c\"><rect width=\"184\" height=\"48\" x=\"0\" y=\"0\"/></clipPath></defs><g class=\"layer-above\"><g class=\"imagelayer\"/><g class=\"shapelayer\"/></g><g class=\"infolayer\"><g class=\"legend\" pointer-events=\"all\" transform=\"translate(803.7,100)\"><rect class=\"bg\" shape-rendering=\"crispEdges\" style=\"stroke: rgb(68, 68, 68); stroke-opacity: 1; fill: rgb(255, 255, 255); fill-opacity: 1; stroke-width: 0px;\" width=\"184\" height=\"48\" x=\"0\" y=\"0\"/><g class=\"scrollbox\" transform=\"\" clip-path=\"url(#legend2f919c)\"><g class=\"groups\"><g class=\"traces\" transform=\"translate(0,14.5)\" style=\"opacity: 1;\"><text class=\"legendtext\" text-anchor=\"start\" x=\"40\" y=\"4.680000000000001\" style=\"font-family: 'Open Sans', verdana, arial, sans-serif; font-size: 12px; fill: rgb(42, 63, 95); fill-opacity: 1; white-space: pre;\">От первого шага</text><g class=\"layers\" style=\"opacity: 1;\"><g class=\"legendfill\"/><g class=\"legendlines\"/><g class=\"legendsymbols\"><g class=\"legendpoints\"><path class=\"legendfunnel\" d=\"M6,6H-6V-6H6Z\" transform=\"translate(20,0)\" style=\"stroke-width: 0px; fill: rgb(99, 110, 250); fill-opacity: 1;\"/></g></g></g><rect class=\"legendtoggle\" x=\"0\" y=\"-9.5\" width=\"178.984375\" height=\"19\" style=\"fill: rgb(0, 0, 0); fill-opacity: 0;\"/></g><g class=\"traces\" transform=\"translate(0,33.5)\" style=\"opacity: 1;\"><text class=\"legendtext\" text-anchor=\"start\" x=\"40\" y=\"4.680000000000001\" style=\"font-family: 'Open Sans', verdana, arial, sans-serif; font-size: 12px; fill: rgb(42, 63, 95); fill-opacity: 1; white-space: pre;\">От предыдущего шага</text><g class=\"layers\" style=\"opacity: 1;\"><g class=\"legendfill\"/><g class=\"legendlines\"/><g class=\"legendsymbols\"><g class=\"legendpoints\"><path class=\"legendfunnel\" d=\"M6,6H-6V-6H6Z\" transform=\"translate(20,0)\" style=\"stroke-width: 0px; fill: rgb(239, 85, 59); fill-opacity: 1;\"/></g></g></g><rect class=\"legendtoggle\" x=\"0\" y=\"-9.5\" width=\"178.984375\" height=\"19\" style=\"fill: rgb(0, 0, 0); fill-opacity: 0;\"/></g></g></g><rect class=\"scrollbar\" rx=\"20\" ry=\"3\" width=\"0\" height=\"0\" style=\"fill: rgb(128, 139, 164); fill-opacity: 1;\" x=\"0\" y=\"0\"/></g><g class=\"g-gtitle\"><text class=\"gtitle\" x=\"50\" y=\"50\" text-anchor=\"start\" dy=\"0em\" style=\"font-family: 'Open Sans', verdana, arial, sans-serif; font-size: 17px; fill: rgb(42, 63, 95); opacity: 1; font-weight: normal; white-space: pre;\">Воронка \"100 аргументов\"</text></g><g class=\"g-ytitle\"/><g class=\"g-y2title\"/></g></svg>"
      ]
     },
     "metadata": {},
     "output_type": "display_data"
    }
   ],
   "source": [
    "fig = make_subplots(rows=1, cols=2)\n",
    "\n",
    "fig.add_trace(go.Funnel(name = 'От первого шага',\n",
    "y = (events_by_users_rus.sort_values('received', ascending=False)['event_name']),\n",
    "x = (events_by_users_rus.sort_values('received', ascending=False)['received']),\n",
    "textposition = \"inside\",\n",
    "textinfo = \"value+percent initial\",  #value+percent previous+\n",
    "connector = {\"fillcolor\": '#bde0eb'},\n",
    "insidetextfont = {'color': 'white', 'size': 14}), row=1, col=1)\n",
    "\n",
    "fig.add_trace(go.Funnel(name = 'От предыдущего шага',\n",
    "y = (events_by_users_rus.sort_values('received', ascending=False)['event_name']),\n",
    "x = (events_by_users_rus.sort_values('received', ascending=False)['received']),\n",
    "textposition = \"inside\",\n",
    "textinfo = \"value+percent previous\",\n",
    "connector = {\"fillcolor\": '#bde0eb'},\n",
    "insidetextfont = {'color': 'white', 'size': 14}), row=1, col=2)\n",
    "\n",
    "fig.update_layout(title_text='Воронка \"100 аргументов\"')\n",
    "fig.show(renderer=\"svg\", width=1000, height=500)"
   ]
  },
  {
   "cell_type": "markdown",
   "id": "8c5de570",
   "metadata": {},
   "source": [
    "### Выводы и рекомендации\n",
    "\n",
    "- **Доля отписок:** 51.11%. \n",
    "\n",
    "\n",
    "- **Конверсии.** Конверсия в заявку: 2.21%. Конверсия в продажу: 0.66%. Учитывая конверсии в заявку и продажу, их количество -  необходима переработка оффера и УТП.\n",
    "\n",
    "\n",
    "- **Чтобы повысить openrate полезных видео и контента необходимы более \"яркие\" названия.**\n",
    "`Когда лучше всего начать подготовку к ЕГЭ по русскому языку, чтобы получить 90+ ⁉️` - слишком длинное и как показывают цифры не привлекает внимания. Возможно более короткий заголовок позволит удерживать внимание аудитории. \n",
    "\n",
    "\n",
    "- **Высокий openrate** оффера вызван тем, что пользователи не оставившие заявку, получают его снова и снова. Это может выжечь аудиторию и повлечь большое количество отписок. "
   ]
  },
  {
   "cell_type": "markdown",
   "id": "d8388233",
   "metadata": {},
   "source": [
    "## Воронка `Вся геометрия на ЕГЭ`"
   ]
  },
  {
   "cell_type": "markdown",
   "id": "e90e9198",
   "metadata": {},
   "source": [
    "Добавим показатель `openrate`"
   ]
  },
  {
   "cell_type": "code",
   "execution_count": 11,
   "id": "684a5e9c",
   "metadata": {},
   "outputs": [
    {
     "data": {
      "text/html": [
       "<div>\n",
       "<style scoped>\n",
       "    .dataframe tbody tr th:only-of-type {\n",
       "        vertical-align: middle;\n",
       "    }\n",
       "\n",
       "    .dataframe tbody tr th {\n",
       "        vertical-align: top;\n",
       "    }\n",
       "\n",
       "    .dataframe thead th {\n",
       "        text-align: right;\n",
       "    }\n",
       "</style>\n",
       "<table border=\"1\" class=\"dataframe\">\n",
       "  <thead>\n",
       "    <tr style=\"text-align: right;\">\n",
       "      <th></th>\n",
       "      <th>event_name</th>\n",
       "      <th>users</th>\n",
       "      <th>received</th>\n",
       "      <th>readed</th>\n",
       "      <th>openrate</th>\n",
       "    </tr>\n",
       "  </thead>\n",
       "  <tbody>\n",
       "    <tr>\n",
       "      <th>0</th>\n",
       "      <td>Приветствие</td>\n",
       "      <td>1128</td>\n",
       "      <td>1646</td>\n",
       "      <td>1276</td>\n",
       "      <td>0.78</td>\n",
       "    </tr>\n",
       "    <tr>\n",
       "      <th>1</th>\n",
       "      <td>Сегментация</td>\n",
       "      <td>1122</td>\n",
       "      <td>1607</td>\n",
       "      <td>1276</td>\n",
       "      <td>0.79</td>\n",
       "    </tr>\n",
       "    <tr>\n",
       "      <th>2</th>\n",
       "      <td>ЛМ</td>\n",
       "      <td>682</td>\n",
       "      <td>1053</td>\n",
       "      <td>455</td>\n",
       "      <td>0.43</td>\n",
       "    </tr>\n",
       "    <tr>\n",
       "      <th>3</th>\n",
       "      <td>Кнопка №1</td>\n",
       "      <td>682</td>\n",
       "      <td>1053</td>\n",
       "      <td>963</td>\n",
       "      <td>0.91</td>\n",
       "    </tr>\n",
       "    <tr>\n",
       "      <th>4</th>\n",
       "      <td>Видео №1</td>\n",
       "      <td>682</td>\n",
       "      <td>955</td>\n",
       "      <td>573</td>\n",
       "      <td>0.60</td>\n",
       "    </tr>\n",
       "    <tr>\n",
       "      <th>5</th>\n",
       "      <td>Кнопка №2</td>\n",
       "      <td>690</td>\n",
       "      <td>905</td>\n",
       "      <td>382</td>\n",
       "      <td>0.42</td>\n",
       "    </tr>\n",
       "    <tr>\n",
       "      <th>6</th>\n",
       "      <td>Видео №2</td>\n",
       "      <td>680</td>\n",
       "      <td>881</td>\n",
       "      <td>340</td>\n",
       "      <td>0.39</td>\n",
       "    </tr>\n",
       "    <tr>\n",
       "      <th>7</th>\n",
       "      <td>Кнопка №3</td>\n",
       "      <td>680</td>\n",
       "      <td>851</td>\n",
       "      <td>226</td>\n",
       "      <td>0.27</td>\n",
       "    </tr>\n",
       "    <tr>\n",
       "      <th>8</th>\n",
       "      <td>Оффер 1</td>\n",
       "      <td>678</td>\n",
       "      <td>820</td>\n",
       "      <td>559</td>\n",
       "      <td>0.68</td>\n",
       "    </tr>\n",
       "    <tr>\n",
       "      <th>9</th>\n",
       "      <td>Контент 1</td>\n",
       "      <td>633</td>\n",
       "      <td>713</td>\n",
       "      <td>153</td>\n",
       "      <td>0.21</td>\n",
       "    </tr>\n",
       "    <tr>\n",
       "      <th>10</th>\n",
       "      <td>Лёгкий старт</td>\n",
       "      <td>630</td>\n",
       "      <td>712</td>\n",
       "      <td>405</td>\n",
       "      <td>0.57</td>\n",
       "    </tr>\n",
       "    <tr>\n",
       "      <th>11</th>\n",
       "      <td>Опрос 1</td>\n",
       "      <td>606</td>\n",
       "      <td>671</td>\n",
       "      <td>280</td>\n",
       "      <td>0.42</td>\n",
       "    </tr>\n",
       "    <tr>\n",
       "      <th>12</th>\n",
       "      <td>Контент 2</td>\n",
       "      <td>512</td>\n",
       "      <td>556</td>\n",
       "      <td>139</td>\n",
       "      <td>0.25</td>\n",
       "    </tr>\n",
       "    <tr>\n",
       "      <th>13</th>\n",
       "      <td>Опрос 2</td>\n",
       "      <td>508</td>\n",
       "      <td>556</td>\n",
       "      <td>229</td>\n",
       "      <td>0.41</td>\n",
       "    </tr>\n",
       "    <tr>\n",
       "      <th>14</th>\n",
       "      <td>Оффер 2</td>\n",
       "      <td>477</td>\n",
       "      <td>515</td>\n",
       "      <td>233</td>\n",
       "      <td>0.45</td>\n",
       "    </tr>\n",
       "  </tbody>\n",
       "</table>\n",
       "</div>"
      ],
      "text/plain": [
       "      event_name  users  received  readed  openrate\n",
       "0    Приветствие   1128      1646    1276      0.78\n",
       "1    Сегментация   1122      1607    1276      0.79\n",
       "2             ЛМ    682      1053     455      0.43\n",
       "3      Кнопка №1    682      1053     963      0.91\n",
       "4       Видео №1    682       955     573      0.60\n",
       "5      Кнопка №2    690       905     382      0.42\n",
       "6       Видео №2    680       881     340      0.39\n",
       "7      Кнопка №3    680       851     226      0.27\n",
       "8        Оффер 1    678       820     559      0.68\n",
       "9      Контент 1    633       713     153      0.21\n",
       "10  Лёгкий старт    630       712     405      0.57\n",
       "11       Опрос 1    606       671     280      0.42\n",
       "12     Контент 2    512       556     139      0.25\n",
       "13       Опрос 2    508       556     229      0.41\n",
       "14       Оффер 2    477       515     233      0.45"
      ]
     },
     "execution_count": 11,
     "metadata": {},
     "output_type": "execute_result"
    }
   ],
   "source": [
    "events_by_users_geometry['openrate'] = round(events_by_users_geometry['readed'] / events_by_users_geometry['received'],2)\n",
    "events_by_users_geometry.head(15)"
   ]
  },
  {
   "cell_type": "markdown",
   "id": "72df711b",
   "metadata": {},
   "source": [
    "Рассмотрим показатели конверсии и оттока клиентов"
   ]
  },
  {
   "cell_type": "code",
   "execution_count": 12,
   "id": "cd4eace8",
   "metadata": {},
   "outputs": [
    {
     "name": "stdout",
     "output_type": "stream",
     "text": [
      "Доля отписок: 31.47%\n",
      "Конверсия в заявку: 2.91%\n"
     ]
    }
   ],
   "source": [
    "print(f\"Доля отписок: {100 - ((1128/1646) * 100):.2f}%\")\n",
    "print(f\"Конверсия в заявку: {(29/996) * 100:.2f}%\")\n"
   ]
  },
  {
   "cell_type": "markdown",
   "id": "e83f8cd2",
   "metadata": {},
   "source": [
    "Рассмотрим `openrate` на графике"
   ]
  },
  {
   "cell_type": "code",
   "execution_count": 13,
   "id": "83f145ff",
   "metadata": {
    "scrolled": false
   },
   "outputs": [
    {
     "data": {
      "image/png": "[encoded data removed]",
      "text/plain": [
       "<Figure size 1200x600 with 1 Axes>"
      ]
     },
     "metadata": {},
     "output_type": "display_data"
    }
   ],
   "source": [
    "event_pivot_geometry = events_by_users_geometry.query('event_name !=\"Заявка\" and event_name !=\"Автоменеджер\" and event_name !=\"Продаж\"').sort_values(by = 'received', ascending = False)\n",
    "\n",
    "plt.figure(figsize=(12,6))\n",
    "sns.barplot(x='openrate', y='event_name', data=event_pivot_geometry, palette='gnuplot_r');\n",
    "plt.xlabel('Openrate')\n",
    "#plt.grid()\n",
    "plt.ylabel('Шаги')\n",
    "plt.title('Openrate по шагам')\n",
    "plt.show();"
   ]
  },
  {
   "cell_type": "markdown",
   "id": "2ef28844",
   "metadata": {},
   "source": [
    "Визуализируем воронки и наглядно рассмотрим на каких шагах мы теряем пользователей"
   ]
  },
  {
   "cell_type": "code",
   "execution_count": 14,
   "id": "caad85e5",
   "metadata": {},
   "outputs": [
    {
     "data": {
      "image/svg+xml": [
       "<svg class=\"main-svg\" xmlns=\"http://www.w3.org/2000/svg\" xmlns:xlink=\"http://www.w3.org/1999/xlink\" width=\"1000\" height=\"500\" style=\"\" viewBox=\"0 0 1000 500\"><rect x=\"0\" y=\"0\" width=\"1000\" height=\"500\" style=\"fill: rgb(255, 255, 255); fill-opacity: 1;\"/><defs id=\"defs-128e76\"><g class=\"clips\"><clipPath id=\"clip128e76xyplot\" class=\"plotclip\"><rect width=\"308.25\" height=\"320\"/></clipPath><clipPath id=\"clip128e76x2y2plot\" class=\"plotclip\"><rect width=\"308.24999999999994\" height=\"320\"/></clipPath><clipPath class=\"axesclip\" id=\"clip128e76x\"><rect x=\"105\" y=\"0\" width=\"308.25\" height=\"500\"/></clipPath><clipPath class=\"axesclip\" id=\"clip128e76y\"><rect x=\"0\" y=\"100\" width=\"1000\" height=\"320\"/></clipPath><clipPath class=\"axesclip\" id=\"clip128e76xy\"><rect x=\"105\" y=\"100\" width=\"308.25\" height=\"320\"/></clipPath><clipPath class=\"axesclip\" id=\"clip128e76y2\"><rect x=\"0\" y=\"100\" width=\"1000\" height=\"320\"/></clipPath><clipPath class=\"axesclip\" id=\"clip128e76xy2\"><rect x=\"105\" y=\"100\" width=\"308.25\" height=\"320\"/></clipPath><clipPath class=\"axesclip\" id=\"clip128e76x2\"><rect x=\"481.75000000000006\" y=\"0\" width=\"308.24999999999994\" height=\"500\"/></clipPath><clipPath class=\"axesclip\" id=\"clip128e76x2y\"><rect x=\"481.75000000000006\" y=\"100\" width=\"308.24999999999994\" height=\"320\"/></clipPath><clipPath class=\"axesclip\" id=\"clip128e76x2y2\"><rect x=\"481.75000000000006\" y=\"100\" width=\"308.24999999999994\" height=\"320\"/></clipPath></g><g class=\"gradients\"/><g class=\"patterns\"/></defs><g class=\"bglayer\"><rect class=\"bg\" x=\"105\" y=\"100\" width=\"308.25\" height=\"320\" style=\"fill: rgb(229, 236, 246); fill-opacity: 1; stroke-width: 0;\"/><rect class=\"bg\" x=\"481.75000000000006\" y=\"100\" width=\"308.24999999999994\" height=\"320\" style=\"fill: rgb(229, 236, 246); fill-opacity: 1; stroke-width: 0;\"/></g><g class=\"layer-below\"><g class=\"imagelayer\"/><g class=\"shapelayer\"/></g><g class=\"cartesianlayer\"><g class=\"subplot xy\"><g class=\"layer-subplot\"><g class=\"shapelayer\"/><g class=\"imagelayer\"/></g><g class=\"minor-gridlayer\"><g class=\"x\"/><g class=\"y\"/></g><g class=\"gridlayer\"><g class=\"x\"/><g class=\"y\"/></g><g class=\"zerolinelayer\"/><path class=\"xlines-below\"/><path class=\"ylines-below\"/><g class=\"overlines-below\"/><g class=\"xaxislayer-below\"/><g class=\"yaxislayer-below\"/><g class=\"overaxes-below\"/><g class=\"plot\" transform=\"translate(105,100)\" clip-path=\"url(#clip128e76xyplot)\"><g class=\"funnellayer mlayer\"><g class=\"trace bars\" style=\"opacity: 1;\"><g class=\"regions\"><g class=\"region\"><path d=\"M15.41,16.94L18.7,20.71H289.55L292.84,16.94Z\" style=\"stroke-width: 0; fill: rgb(189, 224, 235); fill-opacity: 1;\"/></g><g class=\"region\"><path d=\"M18.7,35.76L65.39,39.53H242.86L289.55,35.76Z\" style=\"stroke-width: 0; fill: rgb(189, 224, 235); fill-opacity: 1;\"/></g><g class=\"region\"><path d=\"M65.39,54.59L65.39,58.35H242.86L242.86,54.59Z\" style=\"stroke-width: 0; fill: rgb(189, 224, 235); fill-opacity: 1;\"/></g><g class=\"region\"><path d=\"M65.39,73.41L73.64,77.18H234.61L242.86,73.41Z\" style=\"stroke-width: 0; fill: rgb(189, 224, 235); fill-opacity: 1;\"/></g><g class=\"region\"><path d=\"M73.64,92.24L77.86,96H230.39L234.61,92.24Z\" style=\"stroke-width: 0; fill: rgb(189, 224, 235); fill-opacity: 1;\"/></g><g class=\"region\"><path d=\"M77.86,111.06L79.88,114.82H228.37L230.39,111.06Z\" style=\"stroke-width: 0; fill: rgb(189, 224, 235); fill-opacity: 1;\"/></g><g class=\"region\"><path d=\"M79.88,129.88L82.41,133.65H225.84L228.37,129.88Z\" style=\"stroke-width: 0; fill: rgb(189, 224, 235); fill-opacity: 1;\"/></g><g class=\"region\"><path d=\"M82.41,148.71L85.02,152.47H223.23L225.84,148.71Z\" style=\"stroke-width: 0; fill: rgb(189, 224, 235); fill-opacity: 1;\"/></g><g class=\"region\"><path d=\"M85.02,167.53L94.04,171.29H214.21L223.23,167.53Z\" style=\"stroke-width: 0; fill: rgb(189, 224, 235); fill-opacity: 1;\"/></g><g class=\"region\"><path d=\"M94.04,186.35L94.12,190.12H214.13L214.21,186.35Z\" style=\"stroke-width: 0; fill: rgb(189, 224, 235); fill-opacity: 1;\"/></g><g class=\"region\"><path d=\"M94.12,205.18L97.58,208.94H210.67L214.13,205.18Z\" style=\"stroke-width: 0; fill: rgb(189, 224, 235); fill-opacity: 1;\"/></g><g class=\"region\"><path d=\"M97.58,224L107.27,227.76H200.98L210.67,224Z\" style=\"stroke-width: 0; fill: rgb(189, 224, 235); fill-opacity: 1;\"/></g><g class=\"region\"><path d=\"M107.27,242.82L107.27,246.59H200.98L200.98,242.82Z\" style=\"stroke-width: 0; fill: rgb(189, 224, 235); fill-opacity: 1;\"/></g><g class=\"region\"><path d=\"M107.27,261.65L110.72,265.41H197.53L200.98,261.65Z\" style=\"stroke-width: 0; fill: rgb(189, 224, 235); fill-opacity: 1;\"/></g><g class=\"region\"><path d=\"M110.72,280.47L151.68,284.24H156.57L197.53,280.47Z\" style=\"stroke-width: 0; fill: rgb(189, 224, 235); fill-opacity: 1;\"/></g><g class=\"region\"><path d=\"M151.68,299.29L152.19,303.06H156.06L156.57,299.29Z\" style=\"stroke-width: 0; fill: rgb(189, 224, 235); fill-opacity: 1;\"/></g><g class=\"region\"><path d=\"M0,0Z\" style=\"stroke-width: 0; fill: rgb(189, 224, 235); fill-opacity: 1;\"/></g></g><g class=\"points\"><g class=\"point\"><path d=\"M15.41,1.88V16.94H292.84V1.88Z\" style=\"vector-effect: non-scaling-stroke; fill: rgb(99, 110, 250); fill-opacity: 1; stroke: rgb(68, 68, 68); stroke-opacity: 1; stroke-width: 0px; opacity: 1;\"/><text class=\"bartext bartext-inside\" text-anchor=\"middle\" data-notex=\"1\" x=\"0\" y=\"0\" style=\"font-family: 'Open Sans', verdana, arial, sans-serif; font-size: 14px; fill: rgb(255, 255, 255); fill-opacity: 1; white-space: pre;\" transform=\"translate(154.125,8.483089214380826)scale(0.2573635153129162)\"><tspan class=\"line\" dy=\"0em\" x=\"0\" y=\"0\">1646</tspan><tspan class=\"line\" dy=\"1.3em\" x=\"0\" y=\"0\">100%</tspan></text></g><g class=\"point\"><path d=\"M18.7,20.71V35.76H289.55V20.71Z\" style=\"vector-effect: non-scaling-stroke; fill: rgb(99, 110, 250); fill-opacity: 1; stroke: rgb(68, 68, 68); stroke-opacity: 1; stroke-width: 0px; opacity: 1;\"/><text class=\"bartext bartext-inside\" text-anchor=\"middle\" data-notex=\"1\" x=\"0\" y=\"0\" style=\"font-family: 'Open Sans', verdana, arial, sans-serif; font-size: 14px; fill: rgb(255, 255, 255); fill-opacity: 1; white-space: pre;\" transform=\"translate(154.11294940079893,27.309112294718155)scale(0.25707944962272516)\"><tspan class=\"line\" dy=\"0em\" x=\"0\" y=\"0\">1607</tspan><tspan class=\"line\" dy=\"1.3em\" x=\"0\" y=\"0\">98%</tspan></text></g><g class=\"point\"><path d=\"M65.39,39.53V54.59H242.86V39.53Z\" style=\"vector-effect: non-scaling-stroke; fill: rgb(99, 110, 250); fill-opacity: 1; stroke: rgb(68, 68, 68); stroke-opacity: 1; stroke-width: 0px; opacity: 1;\"/><text class=\"bartext bartext-inside\" text-anchor=\"middle\" data-notex=\"1\" x=\"0\" y=\"0\" style=\"font-family: 'Open Sans', verdana, arial, sans-serif; font-size: 14px; fill: rgb(255, 255, 255); fill-opacity: 1; white-space: pre;\" transform=\"translate(154.1129360852197,46.133089214380824)scale(0.2573635153129162)\"><tspan class=\"line\" dy=\"0em\" x=\"0\" y=\"0\">1053</tspan><tspan class=\"line\" dy=\"1.3em\" x=\"0\" y=\"0\">64%</tspan></text></g><g class=\"point\"><path d=\"M65.39,58.35V73.41H242.86V58.35Z\" style=\"vector-effect: non-scaling-stroke; fill: rgb(99, 110, 250); fill-opacity: 1; stroke: rgb(68, 68, 68); stroke-opacity: 1; stroke-width: 0px; opacity: 1;\"/><text class=\"bartext bartext-inside\" text-anchor=\"middle\" data-notex=\"1\" x=\"0\" y=\"0\" style=\"font-family: 'Open Sans', verdana, arial, sans-serif; font-size: 14px; fill: rgb(255, 255, 255); fill-opacity: 1; white-space: pre;\" transform=\"translate(154.1129360852197,64.95308921438082)scale(0.25736351531291596)\"><tspan class=\"line\" dy=\"0em\" x=\"0\" y=\"0\">1053</tspan><tspan class=\"line\" dy=\"1.3em\" x=\"0\" y=\"0\">64%</tspan></text></g><g class=\"point\"><path d=\"M73.64,77.18V92.24H234.61V77.18Z\" style=\"vector-effect: non-scaling-stroke; fill: rgb(99, 110, 250); fill-opacity: 1; stroke: rgb(68, 68, 68); stroke-opacity: 1; stroke-width: 0px; opacity: 1;\"/><text class=\"bartext bartext-inside\" text-anchor=\"middle\" data-notex=\"1\" x=\"0\" y=\"0\" style=\"font-family: 'Open Sans', verdana, arial, sans-serif; font-size: 14px; fill: rgb(255, 255, 255); fill-opacity: 1; white-space: pre;\" transform=\"translate(154.125,83.78308921438084)scale(0.2573635153129158)\"><tspan class=\"line\" dy=\"0em\" x=\"0\" y=\"0\">955</tspan><tspan class=\"line\" dy=\"1.3em\" x=\"0\" y=\"0\">58%</tspan></text></g><g class=\"point\"><path d=\"M77.86,96V111.06H230.39V96Z\" style=\"vector-effect: non-scaling-stroke; fill: rgb(99, 110, 250); fill-opacity: 1; stroke: rgb(68, 68, 68); stroke-opacity: 1; stroke-width: 0px; opacity: 1;\"/><text class=\"bartext bartext-inside\" text-anchor=\"middle\" data-notex=\"1\" x=\"0\" y=\"0\" style=\"font-family: 'Open Sans', verdana, arial, sans-serif; font-size: 14px; fill: rgb(255, 255, 255); fill-opacity: 1; white-space: pre;\" transform=\"translate(154.125,102.60308921438083)scale(0.2573635153129162)\"><tspan class=\"line\" dy=\"0em\" x=\"0\" y=\"0\">905</tspan><tspan class=\"line\" dy=\"1.3em\" x=\"0\" y=\"0\">55%</tspan></text></g><g class=\"point\"><path d=\"M79.88,114.82V129.88H228.37V114.82Z\" style=\"vector-effect: non-scaling-stroke; fill: rgb(99, 110, 250); fill-opacity: 1; stroke: rgb(68, 68, 68); stroke-opacity: 1; stroke-width: 0px; opacity: 1;\"/><text class=\"bartext bartext-inside\" text-anchor=\"middle\" data-notex=\"1\" x=\"0\" y=\"0\" style=\"font-family: 'Open Sans', verdana, arial, sans-serif; font-size: 14px; fill: rgb(255, 255, 255); fill-opacity: 1; white-space: pre;\" transform=\"translate(154.125,121.42308921438082)scale(0.2573635153129162)\"><tspan class=\"line\" dy=\"0em\" x=\"0\" y=\"0\">881</tspan><tspan class=\"line\" dy=\"1.3em\" x=\"0\" y=\"0\">54%</tspan></text></g><g class=\"point\"><path d=\"M82.41,133.65V148.71H225.84V133.65Z\" style=\"vector-effect: non-scaling-stroke; fill: rgb(99, 110, 250); fill-opacity: 1; stroke: rgb(68, 68, 68); stroke-opacity: 1; stroke-width: 0px; opacity: 1;\"/><text class=\"bartext bartext-inside\" text-anchor=\"middle\" data-notex=\"1\" x=\"0\" y=\"0\" style=\"font-family: 'Open Sans', verdana, arial, sans-serif; font-size: 14px; fill: rgb(255, 255, 255); fill-opacity: 1; white-space: pre;\" transform=\"translate(154.125,140.25308921438082)scale(0.2573635153129162)\"><tspan class=\"line\" dy=\"0em\" x=\"0\" y=\"0\">851</tspan><tspan class=\"line\" dy=\"1.3em\" x=\"0\" y=\"0\">52%</tspan></text></g><g class=\"point\"><path d=\"M85.02,152.47V167.53H223.23V152.47Z\" style=\"vector-effect: non-scaling-stroke; fill: rgb(99, 110, 250); fill-opacity: 1; stroke: rgb(68, 68, 68); stroke-opacity: 1; stroke-width: 0px; opacity: 1;\"/><text class=\"bartext bartext-inside\" text-anchor=\"middle\" data-notex=\"1\" x=\"0\" y=\"0\" style=\"font-family: 'Open Sans', verdana, arial, sans-serif; font-size: 14px; fill: rgb(255, 255, 255); fill-opacity: 1; white-space: pre;\" transform=\"translate(154.125,159.07308921438081)scale(0.2573635153129162)\"><tspan class=\"line\" dy=\"0em\" x=\"0\" y=\"0\">820</tspan><tspan class=\"line\" dy=\"1.3em\" x=\"0\" y=\"0\">50%</tspan></text></g><g class=\"point\"><path d=\"M94.04,171.29V186.35H214.21V171.29Z\" style=\"vector-effect: non-scaling-stroke; fill: rgb(99, 110, 250); fill-opacity: 1; stroke: rgb(68, 68, 68); stroke-opacity: 1; stroke-width: 0px; opacity: 1;\"/><text class=\"bartext bartext-inside\" text-anchor=\"middle\" data-notex=\"1\" x=\"0\" y=\"0\" style=\"font-family: 'Open Sans', verdana, arial, sans-serif; font-size: 14px; fill: rgb(255, 255, 255); fill-opacity: 1; white-space: pre;\" transform=\"translate(154.125,177.8930892143808)scale(0.2573635153129162)\"><tspan class=\"line\" dy=\"0em\" x=\"0\" y=\"0\">713</tspan><tspan class=\"line\" dy=\"1.3em\" x=\"0\" y=\"0\">43%</tspan></text></g><g class=\"point\"><path d=\"M94.12,190.12V205.18H214.13V190.12Z\" style=\"vector-effect: non-scaling-stroke; fill: rgb(99, 110, 250); fill-opacity: 1; stroke: rgb(68, 68, 68); stroke-opacity: 1; stroke-width: 0px; opacity: 1;\"/><text class=\"bartext bartext-inside\" text-anchor=\"middle\" data-notex=\"1\" x=\"0\" y=\"0\" style=\"font-family: 'Open Sans', verdana, arial, sans-serif; font-size: 14px; fill: rgb(255, 255, 255); fill-opacity: 1; white-space: pre;\" transform=\"translate(154.125,196.72308921438082)scale(0.2573635153129162)\"><tspan class=\"line\" dy=\"0em\" x=\"0\" y=\"0\">712</tspan><tspan class=\"line\" dy=\"1.3em\" x=\"0\" y=\"0\">43%</tspan></text></g><g class=\"point\"><path d=\"M97.58,208.94V224H210.67V208.94Z\" style=\"vector-effect: non-scaling-stroke; fill: rgb(99, 110, 250); fill-opacity: 1; stroke: rgb(68, 68, 68); stroke-opacity: 1; stroke-width: 0px; opacity: 1;\"/><text class=\"bartext bartext-inside\" text-anchor=\"middle\" data-notex=\"1\" x=\"0\" y=\"0\" style=\"font-family: 'Open Sans', verdana, arial, sans-serif; font-size: 14px; fill: rgb(255, 255, 255); fill-opacity: 1; white-space: pre;\" transform=\"translate(154.125,215.5430892143808)scale(0.2573635153129162)\"><tspan class=\"line\" dy=\"0em\" x=\"0\" y=\"0\">671</tspan><tspan class=\"line\" dy=\"1.3em\" x=\"0\" y=\"0\">41%</tspan></text></g><g class=\"point\"><path d=\"M107.27,227.76V242.82H200.98V227.76Z\" style=\"vector-effect: non-scaling-stroke; fill: rgb(99, 110, 250); fill-opacity: 1; stroke: rgb(68, 68, 68); stroke-opacity: 1; stroke-width: 0px; opacity: 1;\"/><text class=\"bartext bartext-inside\" text-anchor=\"middle\" data-notex=\"1\" x=\"0\" y=\"0\" style=\"font-family: 'Open Sans', verdana, arial, sans-serif; font-size: 14px; fill: rgb(255, 255, 255); fill-opacity: 1; white-space: pre;\" transform=\"translate(154.125,234.3630892143808)scale(0.2573635153129162)\"><tspan class=\"line\" dy=\"0em\" x=\"0\" y=\"0\">556</tspan><tspan class=\"line\" dy=\"1.3em\" x=\"0\" y=\"0\">34%</tspan></text></g><g class=\"point\"><path d=\"M107.27,246.59V261.65H200.98V246.59Z\" style=\"vector-effect: non-scaling-stroke; fill: rgb(99, 110, 250); fill-opacity: 1; stroke: rgb(68, 68, 68); stroke-opacity: 1; stroke-width: 0px; opacity: 1;\"/><text class=\"bartext bartext-inside\" text-anchor=\"middle\" data-notex=\"1\" x=\"0\" y=\"0\" style=\"font-family: 'Open Sans', verdana, arial, sans-serif; font-size: 14px; fill: rgb(255, 255, 255); fill-opacity: 1; white-space: pre;\" transform=\"translate(154.125,253.19308921438082)scale(0.25736351531291535)\"><tspan class=\"line\" dy=\"0em\" x=\"0\" y=\"0\">556</tspan><tspan class=\"line\" dy=\"1.3em\" x=\"0\" y=\"0\">34%</tspan></text></g><g class=\"point\"><path d=\"M110.72,265.41V280.47H197.53V265.41Z\" style=\"vector-effect: non-scaling-stroke; fill: rgb(99, 110, 250); fill-opacity: 1; stroke: rgb(68, 68, 68); stroke-opacity: 1; stroke-width: 0px; opacity: 1;\"/><text class=\"bartext bartext-inside\" text-anchor=\"middle\" data-notex=\"1\" x=\"0\" y=\"0\" style=\"font-family: 'Open Sans', verdana, arial, sans-serif; font-size: 14px; fill: rgb(255, 255, 255); fill-opacity: 1; white-space: pre;\" transform=\"translate(154.125,272.0130892143809)scale(0.2573635153129162)\"><tspan class=\"line\" dy=\"0em\" x=\"0\" y=\"0\">515</tspan><tspan class=\"line\" dy=\"1.3em\" x=\"0\" y=\"0\">31%</tspan></text></g><g class=\"point\"><path d=\"M151.68,284.24V299.29H156.57V284.24Z\" style=\"vector-effect: non-scaling-stroke; fill: rgb(99, 110, 250); fill-opacity: 1; stroke: rgb(68, 68, 68); stroke-opacity: 1; stroke-width: 0px; opacity: 1;\"/><text class=\"bartext bartext-inside\" text-anchor=\"middle\" data-notex=\"1\" x=\"0\" y=\"0\" style=\"font-family: 'Open Sans', verdana, arial, sans-serif; font-size: 14px; fill: rgb(255, 255, 255); fill-opacity: 1; white-space: pre;\" transform=\"translate(154.125,291.0302249022164)scale(0.20401564537157701)\"><tspan class=\"line\" dy=\"0em\" x=\"0\" y=\"0\">29</tspan><tspan class=\"line\" dy=\"1.3em\" x=\"0\" y=\"0\">2%</tspan></text></g><g class=\"point\"><path d=\"M152.19,303.06V318.12H156.06V303.06Z\" style=\"vector-effect: non-scaling-stroke; fill: rgb(99, 110, 250); fill-opacity: 1; stroke: rgb(68, 68, 68); stroke-opacity: 1; stroke-width: 0px; opacity: 1;\"/><text class=\"bartext bartext-inside\" text-anchor=\"middle\" data-notex=\"1\" x=\"0\" y=\"0\" style=\"font-family: 'Open Sans', verdana, arial, sans-serif; font-size: 14px; fill: rgb(255, 255, 255); fill-opacity: 1; white-space: pre;\" transform=\"translate(154.125,310.0084908735333)scale(0.16146023468057386)\"><tspan class=\"line\" dy=\"0em\" x=\"0\" y=\"0\">23</tspan><tspan class=\"line\" dy=\"1.3em\" x=\"0\" y=\"0\">1%</tspan></text></g></g></g></g></g><g class=\"overplot\"/><path class=\"xlines-above crisp\" d=\"M0,0\" style=\"fill: none;\"/><path class=\"ylines-above crisp\" d=\"M0,0\" style=\"fill: none;\"/><g class=\"overlines-above\"/><g class=\"xaxislayer-above\"/><g class=\"yaxislayer-above\"><g class=\"ytick\"><text text-anchor=\"end\" x=\"104\" y=\"4.199999999999999\" transform=\"translate(0,410.59)\" style=\"font-family: 'Open Sans', verdana, arial, sans-serif; font-size: 12px; fill: rgb(42, 63, 95); fill-opacity: 1; white-space: pre; opacity: 1;\">Автоменеджер</text></g><g class=\"ytick\"><text text-anchor=\"end\" x=\"104\" y=\"4.199999999999999\" transform=\"translate(0,391.76)\" style=\"font-family: 'Open Sans', verdana, arial, sans-serif; font-size: 12px; fill: rgb(42, 63, 95); fill-opacity: 1; white-space: pre; opacity: 1;\">Заявка</text></g><g class=\"ytick\"><text text-anchor=\"end\" x=\"104\" y=\"4.199999999999999\" transform=\"translate(0,372.94)\" style=\"font-family: 'Open Sans', verdana, arial, sans-serif; font-size: 12px; fill: rgb(42, 63, 95); fill-opacity: 1; white-space: pre; opacity: 1;\">Оффер 2</text></g><g class=\"ytick\"><text text-anchor=\"end\" x=\"104\" y=\"4.199999999999999\" transform=\"translate(0,354.12)\" style=\"font-family: 'Open Sans', verdana, arial, sans-serif; font-size: 12px; fill: rgb(42, 63, 95); fill-opacity: 1; white-space: pre; opacity: 1;\">Опрос 2</text></g><g class=\"ytick\"><text text-anchor=\"end\" x=\"104\" y=\"4.199999999999999\" transform=\"translate(0,335.28999999999996)\" style=\"font-family: 'Open Sans', verdana, arial, sans-serif; font-size: 12px; fill: rgb(42, 63, 95); fill-opacity: 1; white-space: pre; opacity: 1;\">Контент 2</text></g><g class=\"ytick\"><text text-anchor=\"end\" x=\"104\" y=\"4.199999999999999\" transform=\"translate(0,316.47)\" style=\"font-family: 'Open Sans', verdana, arial, sans-serif; font-size: 12px; fill: rgb(42, 63, 95); fill-opacity: 1; white-space: pre; opacity: 1;\">Опрос 1</text></g><g class=\"ytick\"><text text-anchor=\"end\" x=\"104\" y=\"4.199999999999999\" transform=\"translate(0,297.65)\" style=\"font-family: 'Open Sans', verdana, arial, sans-serif; font-size: 12px; fill: rgb(42, 63, 95); fill-opacity: 1; white-space: pre; opacity: 1;\">Лёгкий старт</text></g><g class=\"ytick\"><text text-anchor=\"end\" x=\"104\" y=\"4.199999999999999\" transform=\"translate(0,278.82)\" style=\"font-family: 'Open Sans', verdana, arial, sans-serif; font-size: 12px; fill: rgb(42, 63, 95); fill-opacity: 1; white-space: pre; opacity: 1;\">Контент 1</text></g><g class=\"ytick\"><text text-anchor=\"end\" x=\"104\" y=\"4.199999999999999\" transform=\"translate(0,260)\" style=\"font-family: 'Open Sans', verdana, arial, sans-serif; font-size: 12px; fill: rgb(42, 63, 95); fill-opacity: 1; white-space: pre; opacity: 1;\">Оффер 1</text></g><g class=\"ytick\"><text text-anchor=\"end\" x=\"104\" y=\"4.199999999999999\" transform=\"translate(0,241.18)\" style=\"font-family: 'Open Sans', verdana, arial, sans-serif; font-size: 12px; fill: rgb(42, 63, 95); fill-opacity: 1; white-space: pre; opacity: 1;\">Кнопка №3</text></g><g class=\"ytick\"><text text-anchor=\"end\" x=\"104\" y=\"4.199999999999999\" transform=\"translate(0,222.35)\" style=\"font-family: 'Open Sans', verdana, arial, sans-serif; font-size: 12px; fill: rgb(42, 63, 95); fill-opacity: 1; white-space: pre; opacity: 1;\">Видео №2</text></g><g class=\"ytick\"><text text-anchor=\"end\" x=\"104\" y=\"4.199999999999999\" transform=\"translate(0,203.53)\" style=\"font-family: 'Open Sans', verdana, arial, sans-serif; font-size: 12px; fill: rgb(42, 63, 95); fill-opacity: 1; white-space: pre; opacity: 1;\">Кнопка №2</text></g><g class=\"ytick\"><text text-anchor=\"end\" x=\"104\" y=\"4.199999999999999\" transform=\"translate(0,184.70999999999998)\" style=\"font-family: 'Open Sans', verdana, arial, sans-serif; font-size: 12px; fill: rgb(42, 63, 95); fill-opacity: 1; white-space: pre; opacity: 1;\">Видео №1</text></g><g class=\"ytick\"><text text-anchor=\"end\" x=\"104\" y=\"4.199999999999999\" transform=\"translate(0,165.88)\" style=\"font-family: 'Open Sans', verdana, arial, sans-serif; font-size: 12px; fill: rgb(42, 63, 95); fill-opacity: 1; white-space: pre; opacity: 1;\">Кнопка №1</text></g><g class=\"ytick\"><text text-anchor=\"end\" x=\"104\" y=\"4.199999999999999\" transform=\"translate(0,147.06)\" style=\"font-family: 'Open Sans', verdana, arial, sans-serif; font-size: 12px; fill: rgb(42, 63, 95); fill-opacity: 1; white-space: pre; opacity: 1;\">ЛМ</text></g><g class=\"ytick\"><text text-anchor=\"end\" x=\"104\" y=\"4.199999999999999\" transform=\"translate(0,128.24)\" style=\"font-family: 'Open Sans', verdana, arial, sans-serif; font-size: 12px; fill: rgb(42, 63, 95); fill-opacity: 1; white-space: pre; opacity: 1;\">Сегментация</text></g><g class=\"ytick\"><text text-anchor=\"end\" x=\"104\" y=\"4.199999999999999\" transform=\"translate(0,109.41)\" style=\"font-family: 'Open Sans', verdana, arial, sans-serif; font-size: 12px; fill: rgb(42, 63, 95); fill-opacity: 1; white-space: pre; opacity: 1;\">Приветствие</text></g></g><g class=\"overaxes-above\"/></g><g class=\"subplot x2y2\"><g class=\"layer-subplot\"><g class=\"shapelayer\"/><g class=\"imagelayer\"/></g><g class=\"minor-gridlayer\"><g class=\"x2\"/><g class=\"y2\"/></g><g class=\"gridlayer\"><g class=\"x2\"/><g class=\"y2\"/></g><g class=\"zerolinelayer\"/><path class=\"xlines-below\"/><path class=\"ylines-below\"/><g class=\"overlines-below\"/><g class=\"xaxislayer-below\"/><g class=\"yaxislayer-below\"/><g class=\"overaxes-below\"/><g class=\"plot\" transform=\"translate(481.75000000000006,100)\" clip-path=\"url(#clip128e76x2y2plot)\"><g class=\"funnellayer mlayer\"><g class=\"trace bars\" style=\"opacity: 1;\"><g class=\"regions\"><g class=\"region\"><path d=\"M15.41,16.94L18.7,20.71H289.55L292.84,16.94Z\" style=\"stroke-width: 0; fill: rgb(189, 224, 235); fill-opacity: 1;\"/></g><g class=\"region\"><path d=\"M18.7,35.76L65.39,39.53H242.86L289.55,35.76Z\" style=\"stroke-width: 0; fill: rgb(189, 224, 235); fill-opacity: 1;\"/></g><g class=\"region\"><path d=\"M65.39,54.59L65.39,58.35H242.86L242.86,54.59Z\" style=\"stroke-width: 0; fill: rgb(189, 224, 235); fill-opacity: 1;\"/></g><g class=\"region\"><path d=\"M65.39,73.41L73.64,77.18H234.61L242.86,73.41Z\" style=\"stroke-width: 0; fill: rgb(189, 224, 235); fill-opacity: 1;\"/></g><g class=\"region\"><path d=\"M73.64,92.24L77.86,96H230.39L234.61,92.24Z\" style=\"stroke-width: 0; fill: rgb(189, 224, 235); fill-opacity: 1;\"/></g><g class=\"region\"><path d=\"M77.86,111.06L79.88,114.82H228.37L230.39,111.06Z\" style=\"stroke-width: 0; fill: rgb(189, 224, 235); fill-opacity: 1;\"/></g><g class=\"region\"><path d=\"M79.88,129.88L82.41,133.65H225.84L228.37,129.88Z\" style=\"stroke-width: 0; fill: rgb(189, 224, 235); fill-opacity: 1;\"/></g><g class=\"region\"><path d=\"M82.41,148.71L85.02,152.47H223.23L225.84,148.71Z\" style=\"stroke-width: 0; fill: rgb(189, 224, 235); fill-opacity: 1;\"/></g><g class=\"region\"><path d=\"M85.02,167.53L94.04,171.29H214.21L223.23,167.53Z\" style=\"stroke-width: 0; fill: rgb(189, 224, 235); fill-opacity: 1;\"/></g><g class=\"region\"><path d=\"M94.04,186.35L94.12,190.12H214.13L214.21,186.35Z\" style=\"stroke-width: 0; fill: rgb(189, 224, 235); fill-opacity: 1;\"/></g><g class=\"region\"><path d=\"M94.12,205.18L97.58,208.94H210.67L214.13,205.18Z\" style=\"stroke-width: 0; fill: rgb(189, 224, 235); fill-opacity: 1;\"/></g><g class=\"region\"><path d=\"M97.58,224L107.27,227.76H200.98L210.67,224Z\" style=\"stroke-width: 0; fill: rgb(189, 224, 235); fill-opacity: 1;\"/></g><g class=\"region\"><path d=\"M107.27,242.82L107.27,246.59H200.98L200.98,242.82Z\" style=\"stroke-width: 0; fill: rgb(189, 224, 235); fill-opacity: 1;\"/></g><g class=\"region\"><path d=\"M107.27,261.65L110.72,265.41H197.53L200.98,261.65Z\" style=\"stroke-width: 0; fill: rgb(189, 224, 235); fill-opacity: 1;\"/></g><g class=\"region\"><path d=\"M110.72,280.47L151.68,284.24H156.57L197.53,280.47Z\" style=\"stroke-width: 0; fill: rgb(189, 224, 235); fill-opacity: 1;\"/></g><g class=\"region\"><path d=\"M151.68,299.29L152.19,303.06H156.06L156.57,299.29Z\" style=\"stroke-width: 0; fill: rgb(189, 224, 235); fill-opacity: 1;\"/></g><g class=\"region\"><path d=\"M0,0Z\" style=\"stroke-width: 0; fill: rgb(189, 224, 235); fill-opacity: 1;\"/></g></g><g class=\"points\"><g class=\"point\"><path d=\"M15.41,1.88V16.94H292.84V1.88Z\" style=\"vector-effect: non-scaling-stroke; fill: rgb(239, 85, 59); fill-opacity: 1; stroke: rgb(68, 68, 68); stroke-opacity: 1; stroke-width: 0px; opacity: 1;\"/><text class=\"bartext bartext-inside\" text-anchor=\"middle\" data-notex=\"1\" x=\"0\" y=\"0\" style=\"font-family: 'Open Sans', verdana, arial, sans-serif; font-size: 14px; fill: rgb(255, 255, 255); fill-opacity: 1; white-space: pre;\" transform=\"translate(154.125,8.483089214380826)scale(0.2573635153129162)\"><tspan class=\"line\" dy=\"0em\" x=\"0\" y=\"0\">1646</tspan><tspan class=\"line\" dy=\"1.3em\" x=\"0\" y=\"0\">100%</tspan></text></g><g class=\"point\"><path d=\"M18.7,20.71V35.76H289.55V20.71Z\" style=\"vector-effect: non-scaling-stroke; fill: rgb(239, 85, 59); fill-opacity: 1; stroke: rgb(68, 68, 68); stroke-opacity: 1; stroke-width: 0px; opacity: 1;\"/><text class=\"bartext bartext-inside\" text-anchor=\"middle\" data-notex=\"1\" x=\"0\" y=\"0\" style=\"font-family: 'Open Sans', verdana, arial, sans-serif; font-size: 14px; fill: rgb(255, 255, 255); fill-opacity: 1; white-space: pre;\" transform=\"translate(154.11294940079893,27.309112294718155)scale(0.25707944962272516)\"><tspan class=\"line\" dy=\"0em\" x=\"0\" y=\"0\">1607</tspan><tspan class=\"line\" dy=\"1.3em\" x=\"0\" y=\"0\">98%</tspan></text></g><g class=\"point\"><path d=\"M65.39,39.53V54.59H242.86V39.53Z\" style=\"vector-effect: non-scaling-stroke; fill: rgb(239, 85, 59); fill-opacity: 1; stroke: rgb(68, 68, 68); stroke-opacity: 1; stroke-width: 0px; opacity: 1;\"/><text class=\"bartext bartext-inside\" text-anchor=\"middle\" data-notex=\"1\" x=\"0\" y=\"0\" style=\"font-family: 'Open Sans', verdana, arial, sans-serif; font-size: 14px; fill: rgb(255, 255, 255); fill-opacity: 1; white-space: pre;\" transform=\"translate(154.1129360852197,46.133089214380824)scale(0.2573635153129162)\"><tspan class=\"line\" dy=\"0em\" x=\"0\" y=\"0\">1053</tspan><tspan class=\"line\" dy=\"1.3em\" x=\"0\" y=\"0\">66%</tspan></text></g><g class=\"point\"><path d=\"M65.39,58.35V73.41H242.86V58.35Z\" style=\"vector-effect: non-scaling-stroke; fill: rgb(239, 85, 59); fill-opacity: 1; stroke: rgb(68, 68, 68); stroke-opacity: 1; stroke-width: 0px; opacity: 1;\"/><text class=\"bartext bartext-inside\" text-anchor=\"middle\" data-notex=\"1\" x=\"0\" y=\"0\" style=\"font-family: 'Open Sans', verdana, arial, sans-serif; font-size: 14px; fill: rgb(255, 255, 255); fill-opacity: 1; white-space: pre;\" transform=\"translate(154.125,64.95308921438082)scale(0.25736351531291596)\"><tspan class=\"line\" dy=\"0em\" x=\"0\" y=\"0\">1053</tspan><tspan class=\"line\" dy=\"1.3em\" x=\"0\" y=\"0\">100%</tspan></text></g><g class=\"point\"><path d=\"M73.64,77.18V92.24H234.61V77.18Z\" style=\"vector-effect: non-scaling-stroke; fill: rgb(239, 85, 59); fill-opacity: 1; stroke: rgb(68, 68, 68); stroke-opacity: 1; stroke-width: 0px; opacity: 1;\"/><text class=\"bartext bartext-inside\" text-anchor=\"middle\" data-notex=\"1\" x=\"0\" y=\"0\" style=\"font-family: 'Open Sans', verdana, arial, sans-serif; font-size: 14px; fill: rgb(255, 255, 255); fill-opacity: 1; white-space: pre;\" transform=\"translate(154.125,83.78308921438084)scale(0.2573635153129158)\"><tspan class=\"line\" dy=\"0em\" x=\"0\" y=\"0\">955</tspan><tspan class=\"line\" dy=\"1.3em\" x=\"0\" y=\"0\">91%</tspan></text></g><g class=\"point\"><path d=\"M77.86,96V111.06H230.39V96Z\" style=\"vector-effect: non-scaling-stroke; fill: rgb(239, 85, 59); fill-opacity: 1; stroke: rgb(68, 68, 68); stroke-opacity: 1; stroke-width: 0px; opacity: 1;\"/><text class=\"bartext bartext-inside\" text-anchor=\"middle\" data-notex=\"1\" x=\"0\" y=\"0\" style=\"font-family: 'Open Sans', verdana, arial, sans-serif; font-size: 14px; fill: rgb(255, 255, 255); fill-opacity: 1; white-space: pre;\" transform=\"translate(154.125,102.60308921438083)scale(0.2573635153129162)\"><tspan class=\"line\" dy=\"0em\" x=\"0\" y=\"0\">905</tspan><tspan class=\"line\" dy=\"1.3em\" x=\"0\" y=\"0\">95%</tspan></text></g><g class=\"point\"><path d=\"M79.88,114.82V129.88H228.37V114.82Z\" style=\"vector-effect: non-scaling-stroke; fill: rgb(239, 85, 59); fill-opacity: 1; stroke: rgb(68, 68, 68); stroke-opacity: 1; stroke-width: 0px; opacity: 1;\"/><text class=\"bartext bartext-inside\" text-anchor=\"middle\" data-notex=\"1\" x=\"0\" y=\"0\" style=\"font-family: 'Open Sans', verdana, arial, sans-serif; font-size: 14px; fill: rgb(255, 255, 255); fill-opacity: 1; white-space: pre;\" transform=\"translate(154.125,121.42308921438082)scale(0.2573635153129162)\"><tspan class=\"line\" dy=\"0em\" x=\"0\" y=\"0\">881</tspan><tspan class=\"line\" dy=\"1.3em\" x=\"0\" y=\"0\">97%</tspan></text></g><g class=\"point\"><path d=\"M82.41,133.65V148.71H225.84V133.65Z\" style=\"vector-effect: non-scaling-stroke; fill: rgb(239, 85, 59); fill-opacity: 1; stroke: rgb(68, 68, 68); stroke-opacity: 1; stroke-width: 0px; opacity: 1;\"/><text class=\"bartext bartext-inside\" text-anchor=\"middle\" data-notex=\"1\" x=\"0\" y=\"0\" style=\"font-family: 'Open Sans', verdana, arial, sans-serif; font-size: 14px; fill: rgb(255, 255, 255); fill-opacity: 1; white-space: pre;\" transform=\"translate(154.125,140.25308921438082)scale(0.2573635153129162)\"><tspan class=\"line\" dy=\"0em\" x=\"0\" y=\"0\">851</tspan><tspan class=\"line\" dy=\"1.3em\" x=\"0\" y=\"0\">97%</tspan></text></g><g class=\"point\"><path d=\"M85.02,152.47V167.53H223.23V152.47Z\" style=\"vector-effect: non-scaling-stroke; fill: rgb(239, 85, 59); fill-opacity: 1; stroke: rgb(68, 68, 68); stroke-opacity: 1; stroke-width: 0px; opacity: 1;\"/><text class=\"bartext bartext-inside\" text-anchor=\"middle\" data-notex=\"1\" x=\"0\" y=\"0\" style=\"font-family: 'Open Sans', verdana, arial, sans-serif; font-size: 14px; fill: rgb(255, 255, 255); fill-opacity: 1; white-space: pre;\" transform=\"translate(154.125,159.07308921438081)scale(0.2573635153129162)\"><tspan class=\"line\" dy=\"0em\" x=\"0\" y=\"0\">820</tspan><tspan class=\"line\" dy=\"1.3em\" x=\"0\" y=\"0\">96%</tspan></text></g><g class=\"point\"><path d=\"M94.04,171.29V186.35H214.21V171.29Z\" style=\"vector-effect: non-scaling-stroke; fill: rgb(239, 85, 59); fill-opacity: 1; stroke: rgb(68, 68, 68); stroke-opacity: 1; stroke-width: 0px; opacity: 1;\"/><text class=\"bartext bartext-inside\" text-anchor=\"middle\" data-notex=\"1\" x=\"0\" y=\"0\" style=\"font-family: 'Open Sans', verdana, arial, sans-serif; font-size: 14px; fill: rgb(255, 255, 255); fill-opacity: 1; white-space: pre;\" transform=\"translate(154.125,177.8930892143808)scale(0.2573635153129162)\"><tspan class=\"line\" dy=\"0em\" x=\"0\" y=\"0\">713</tspan><tspan class=\"line\" dy=\"1.3em\" x=\"0\" y=\"0\">87%</tspan></text></g><g class=\"point\"><path d=\"M94.12,190.12V205.18H214.13V190.12Z\" style=\"vector-effect: non-scaling-stroke; fill: rgb(239, 85, 59); fill-opacity: 1; stroke: rgb(68, 68, 68); stroke-opacity: 1; stroke-width: 0px; opacity: 1;\"/><text class=\"bartext bartext-inside\" text-anchor=\"middle\" data-notex=\"1\" x=\"0\" y=\"0\" style=\"font-family: 'Open Sans', verdana, arial, sans-serif; font-size: 14px; fill: rgb(255, 255, 255); fill-opacity: 1; white-space: pre;\" transform=\"translate(154.125,196.72308921438082)scale(0.2573635153129162)\"><tspan class=\"line\" dy=\"0em\" x=\"0\" y=\"0\">712</tspan><tspan class=\"line\" dy=\"1.3em\" x=\"0\" y=\"0\">100%</tspan></text></g><g class=\"point\"><path d=\"M97.58,208.94V224H210.67V208.94Z\" style=\"vector-effect: non-scaling-stroke; fill: rgb(239, 85, 59); fill-opacity: 1; stroke: rgb(68, 68, 68); stroke-opacity: 1; stroke-width: 0px; opacity: 1;\"/><text class=\"bartext bartext-inside\" text-anchor=\"middle\" data-notex=\"1\" x=\"0\" y=\"0\" style=\"font-family: 'Open Sans', verdana, arial, sans-serif; font-size: 14px; fill: rgb(255, 255, 255); fill-opacity: 1; white-space: pre;\" transform=\"translate(154.125,215.5430892143808)scale(0.2573635153129162)\"><tspan class=\"line\" dy=\"0em\" x=\"0\" y=\"0\">671</tspan><tspan class=\"line\" dy=\"1.3em\" x=\"0\" y=\"0\">94%</tspan></text></g><g class=\"point\"><path d=\"M107.27,227.76V242.82H200.98V227.76Z\" style=\"vector-effect: non-scaling-stroke; fill: rgb(239, 85, 59); fill-opacity: 1; stroke: rgb(68, 68, 68); stroke-opacity: 1; stroke-width: 0px; opacity: 1;\"/><text class=\"bartext bartext-inside\" text-anchor=\"middle\" data-notex=\"1\" x=\"0\" y=\"0\" style=\"font-family: 'Open Sans', verdana, arial, sans-serif; font-size: 14px; fill: rgb(255, 255, 255); fill-opacity: 1; white-space: pre;\" transform=\"translate(154.125,234.3630892143808)scale(0.2573635153129162)\"><tspan class=\"line\" dy=\"0em\" x=\"0\" y=\"0\">556</tspan><tspan class=\"line\" dy=\"1.3em\" x=\"0\" y=\"0\">83%</tspan></text></g><g class=\"point\"><path d=\"M107.27,246.59V261.65H200.98V246.59Z\" style=\"vector-effect: non-scaling-stroke; fill: rgb(239, 85, 59); fill-opacity: 1; stroke: rgb(68, 68, 68); stroke-opacity: 1; stroke-width: 0px; opacity: 1;\"/><text class=\"bartext bartext-inside\" text-anchor=\"middle\" data-notex=\"1\" x=\"0\" y=\"0\" style=\"font-family: 'Open Sans', verdana, arial, sans-serif; font-size: 14px; fill: rgb(255, 255, 255); fill-opacity: 1; white-space: pre;\" transform=\"translate(154.125,253.19308921438082)scale(0.25736351531291535)\"><tspan class=\"line\" dy=\"0em\" x=\"0\" y=\"0\">556</tspan><tspan class=\"line\" dy=\"1.3em\" x=\"0\" y=\"0\">100%</tspan></text></g><g class=\"point\"><path d=\"M110.72,265.41V280.47H197.53V265.41Z\" style=\"vector-effect: non-scaling-stroke; fill: rgb(239, 85, 59); fill-opacity: 1; stroke: rgb(68, 68, 68); stroke-opacity: 1; stroke-width: 0px; opacity: 1;\"/><text class=\"bartext bartext-inside\" text-anchor=\"middle\" data-notex=\"1\" x=\"0\" y=\"0\" style=\"font-family: 'Open Sans', verdana, arial, sans-serif; font-size: 14px; fill: rgb(255, 255, 255); fill-opacity: 1; white-space: pre;\" transform=\"translate(154.125,272.0130892143809)scale(0.2573635153129162)\"><tspan class=\"line\" dy=\"0em\" x=\"0\" y=\"0\">515</tspan><tspan class=\"line\" dy=\"1.3em\" x=\"0\" y=\"0\">93%</tspan></text></g><g class=\"point\"><path d=\"M151.68,284.24V299.29H156.57V284.24Z\" style=\"vector-effect: non-scaling-stroke; fill: rgb(239, 85, 59); fill-opacity: 1; stroke: rgb(68, 68, 68); stroke-opacity: 1; stroke-width: 0px; opacity: 1;\"/><text class=\"bartext bartext-inside\" text-anchor=\"middle\" data-notex=\"1\" x=\"0\" y=\"0\" style=\"font-family: 'Open Sans', verdana, arial, sans-serif; font-size: 14px; fill: rgb(255, 255, 255); fill-opacity: 1; white-space: pre;\" transform=\"translate(154.125,291.0302249022164)scale(0.20401564537157701)\"><tspan class=\"line\" dy=\"0em\" x=\"0\" y=\"0\">29</tspan><tspan class=\"line\" dy=\"1.3em\" x=\"0\" y=\"0\">6%</tspan></text></g><g class=\"point\"><path d=\"M152.19,303.06V318.12H156.06V303.06Z\" style=\"vector-effect: non-scaling-stroke; fill: rgb(239, 85, 59); fill-opacity: 1; stroke: rgb(68, 68, 68); stroke-opacity: 1; stroke-width: 0px; opacity: 1;\"/><text class=\"bartext bartext-inside\" text-anchor=\"middle\" data-notex=\"1\" x=\"0\" y=\"0\" style=\"font-family: 'Open Sans', verdana, arial, sans-serif; font-size: 14px; fill: rgb(255, 255, 255); fill-opacity: 1; white-space: pre;\" transform=\"translate(154.125,310.16602899239547)scale(0.11771863117870736)\"><tspan class=\"line\" dy=\"0em\" x=\"0\" y=\"0\">23</tspan><tspan class=\"line\" dy=\"1.3em\" x=\"0\" y=\"0\">79%</tspan></text></g></g></g></g></g><g class=\"overplot\"/><path class=\"xlines-above crisp\" d=\"M0,0\" style=\"fill: none;\"/><path class=\"ylines-above crisp\" d=\"M0,0\" style=\"fill: none;\"/><g class=\"overlines-above\"/><g class=\"xaxislayer-above\"/><g class=\"yaxislayer-above\"><g class=\"y2tick\"><text text-anchor=\"end\" x=\"480.75000000000006\" y=\"4.199999999999999\" transform=\"translate(0,410.59)\" style=\"font-family: 'Open Sans', verdana, arial, sans-serif; font-size: 12px; fill: rgb(42, 63, 95); fill-opacity: 1; white-space: pre; opacity: 1;\">Автоменеджер</text></g><g class=\"y2tick\"><text text-anchor=\"end\" x=\"480.75000000000006\" y=\"4.199999999999999\" transform=\"translate(0,391.76)\" style=\"font-family: 'Open Sans', verdana, arial, sans-serif; font-size: 12px; fill: rgb(42, 63, 95); fill-opacity: 1; white-space: pre; opacity: 1;\">Заявка</text></g><g class=\"y2tick\"><text text-anchor=\"end\" x=\"480.75000000000006\" y=\"4.199999999999999\" transform=\"translate(0,372.94)\" style=\"font-family: 'Open Sans', verdana, arial, sans-serif; font-size: 12px; fill: rgb(42, 63, 95); fill-opacity: 1; white-space: pre; opacity: 1;\">Оффер 2</text></g><g class=\"y2tick\"><text text-anchor=\"end\" x=\"480.75000000000006\" y=\"4.199999999999999\" transform=\"translate(0,354.12)\" style=\"font-family: 'Open Sans', verdana, arial, sans-serif; font-size: 12px; fill: rgb(42, 63, 95); fill-opacity: 1; white-space: pre; opacity: 1;\">Опрос 2</text></g><g class=\"y2tick\"><text text-anchor=\"end\" x=\"480.75000000000006\" y=\"4.199999999999999\" transform=\"translate(0,335.28999999999996)\" style=\"font-family: 'Open Sans', verdana, arial, sans-serif; font-size: 12px; fill: rgb(42, 63, 95); fill-opacity: 1; white-space: pre; opacity: 1;\">Контент 2</text></g><g class=\"y2tick\"><text text-anchor=\"end\" x=\"480.75000000000006\" y=\"4.199999999999999\" transform=\"translate(0,316.47)\" style=\"font-family: 'Open Sans', verdana, arial, sans-serif; font-size: 12px; fill: rgb(42, 63, 95); fill-opacity: 1; white-space: pre; opacity: 1;\">Опрос 1</text></g><g class=\"y2tick\"><text text-anchor=\"end\" x=\"480.75000000000006\" y=\"4.199999999999999\" transform=\"translate(0,297.65)\" style=\"font-family: 'Open Sans', verdana, arial, sans-serif; font-size: 12px; fill: rgb(42, 63, 95); fill-opacity: 1; white-space: pre; opacity: 1;\">Лёгкий старт</text></g><g class=\"y2tick\"><text text-anchor=\"end\" x=\"480.75000000000006\" y=\"4.199999999999999\" transform=\"translate(0,278.82)\" style=\"font-family: 'Open Sans', verdana, arial, sans-serif; font-size: 12px; fill: rgb(42, 63, 95); fill-opacity: 1; white-space: pre; opacity: 1;\">Контент 1</text></g><g class=\"y2tick\"><text text-anchor=\"end\" x=\"480.75000000000006\" y=\"4.199999999999999\" transform=\"translate(0,260)\" style=\"font-family: 'Open Sans', verdana, arial, sans-serif; font-size: 12px; fill: rgb(42, 63, 95); fill-opacity: 1; white-space: pre; opacity: 1;\">Оффер 1</text></g><g class=\"y2tick\"><text text-anchor=\"end\" x=\"480.75000000000006\" y=\"4.199999999999999\" transform=\"translate(0,241.18)\" style=\"font-family: 'Open Sans', verdana, arial, sans-serif; font-size: 12px; fill: rgb(42, 63, 95); fill-opacity: 1; white-space: pre; opacity: 1;\">Кнопка №3</text></g><g class=\"y2tick\"><text text-anchor=\"end\" x=\"480.75000000000006\" y=\"4.199999999999999\" transform=\"translate(0,222.35)\" style=\"font-family: 'Open Sans', verdana, arial, sans-serif; font-size: 12px; fill: rgb(42, 63, 95); fill-opacity: 1; white-space: pre; opacity: 1;\">Видео №2</text></g><g class=\"y2tick\"><text text-anchor=\"end\" x=\"480.75000000000006\" y=\"4.199999999999999\" transform=\"translate(0,203.53)\" style=\"font-family: 'Open Sans', verdana, arial, sans-serif; font-size: 12px; fill: rgb(42, 63, 95); fill-opacity: 1; white-space: pre; opacity: 1;\">Кнопка №2</text></g><g class=\"y2tick\"><text text-anchor=\"end\" x=\"480.75000000000006\" y=\"4.199999999999999\" transform=\"translate(0,184.70999999999998)\" style=\"font-family: 'Open Sans', verdana, arial, sans-serif; font-size: 12px; fill: rgb(42, 63, 95); fill-opacity: 1; white-space: pre; opacity: 1;\">Видео №1</text></g><g class=\"y2tick\"><text text-anchor=\"end\" x=\"480.75000000000006\" y=\"4.199999999999999\" transform=\"translate(0,165.88)\" style=\"font-family: 'Open Sans', verdana, arial, sans-serif; font-size: 12px; fill: rgb(42, 63, 95); fill-opacity: 1; white-space: pre; opacity: 1;\">Кнопка №1</text></g><g class=\"y2tick\"><text text-anchor=\"end\" x=\"480.75000000000006\" y=\"4.199999999999999\" transform=\"translate(0,147.06)\" style=\"font-family: 'Open Sans', verdana, arial, sans-serif; font-size: 12px; fill: rgb(42, 63, 95); fill-opacity: 1; white-space: pre; opacity: 1;\">ЛМ</text></g><g class=\"y2tick\"><text text-anchor=\"end\" x=\"480.75000000000006\" y=\"4.199999999999999\" transform=\"translate(0,128.24)\" style=\"font-family: 'Open Sans', verdana, arial, sans-serif; font-size: 12px; fill: rgb(42, 63, 95); fill-opacity: 1; white-space: pre; opacity: 1;\">Сегментация</text></g><g class=\"y2tick\"><text text-anchor=\"end\" x=\"480.75000000000006\" y=\"4.199999999999999\" transform=\"translate(0,109.41)\" style=\"font-family: 'Open Sans', verdana, arial, sans-serif; font-size: 12px; fill: rgb(42, 63, 95); fill-opacity: 1; white-space: pre; opacity: 1;\">Приветствие</text></g></g><g class=\"overaxes-above\"/></g></g><g class=\"polarlayer\"/><g class=\"smithlayer\"/><g class=\"ternarylayer\"/><g class=\"geolayer\"/><g class=\"funnelarealayer\"/><g class=\"pielayer\"/><g class=\"iciclelayer\"/><g class=\"treemaplayer\"/><g class=\"sunburstlayer\"/><g class=\"glimages\"/><defs id=\"topdefs-128e76\"><g class=\"clips\"/><clipPath id=\"legend128e76\"><rect width=\"184\" height=\"48\" x=\"0\" y=\"0\"/></clipPath></defs><g class=\"layer-above\"><g class=\"imagelayer\"/><g class=\"shapelayer\"/></g><g class=\"infolayer\"><g class=\"legend\" pointer-events=\"all\" transform=\"translate(803.7,100)\"><rect class=\"bg\" shape-rendering=\"crispEdges\" width=\"184\" height=\"48\" x=\"0\" y=\"0\" style=\"stroke: rgb(68, 68, 68); stroke-opacity: 1; fill: rgb(255, 255, 255); fill-opacity: 1; stroke-width: 0px;\"/><g class=\"scrollbox\" transform=\"\" clip-path=\"url(#legend128e76)\"><g class=\"groups\"><g class=\"traces\" transform=\"translate(0,14.5)\" style=\"opacity: 1;\"><text class=\"legendtext\" text-anchor=\"start\" x=\"40\" y=\"4.680000000000001\" style=\"font-family: 'Open Sans', verdana, arial, sans-serif; font-size: 12px; fill: rgb(42, 63, 95); fill-opacity: 1; white-space: pre;\">От первого шага</text><g class=\"layers\" style=\"opacity: 1;\"><g class=\"legendfill\"/><g class=\"legendlines\"/><g class=\"legendsymbols\"><g class=\"legendpoints\"><path class=\"legendfunnel\" d=\"M6,6H-6V-6H6Z\" transform=\"translate(20,0)\" style=\"stroke-width: 0px; fill: rgb(99, 110, 250); fill-opacity: 1;\"/></g></g></g><rect class=\"legendtoggle\" x=\"0\" y=\"-9.5\" width=\"178.984375\" height=\"19\" style=\"fill: rgb(0, 0, 0); fill-opacity: 0;\"/></g><g class=\"traces\" transform=\"translate(0,33.5)\" style=\"opacity: 1;\"><text class=\"legendtext\" text-anchor=\"start\" x=\"40\" y=\"4.680000000000001\" style=\"font-family: 'Open Sans', verdana, arial, sans-serif; font-size: 12px; fill: rgb(42, 63, 95); fill-opacity: 1; white-space: pre;\">От предыдущего шага</text><g class=\"layers\" style=\"opacity: 1;\"><g class=\"legendfill\"/><g class=\"legendlines\"/><g class=\"legendsymbols\"><g class=\"legendpoints\"><path class=\"legendfunnel\" d=\"M6,6H-6V-6H6Z\" transform=\"translate(20,0)\" style=\"stroke-width: 0px; fill: rgb(239, 85, 59); fill-opacity: 1;\"/></g></g></g><rect class=\"legendtoggle\" x=\"0\" y=\"-9.5\" width=\"178.984375\" height=\"19\" style=\"fill: rgb(0, 0, 0); fill-opacity: 0;\"/></g></g></g><rect class=\"scrollbar\" rx=\"20\" ry=\"3\" width=\"0\" height=\"0\" x=\"0\" y=\"0\" style=\"fill: rgb(128, 139, 164); fill-opacity: 1;\"/></g><g class=\"g-gtitle\"><text class=\"gtitle\" x=\"50\" y=\"50\" text-anchor=\"start\" dy=\"0em\" style=\"font-family: 'Open Sans', verdana, arial, sans-serif; font-size: 17px; fill: rgb(42, 63, 95); opacity: 1; font-weight: normal; white-space: pre;\">Воронка \"Вся геометрия на ЕГЭ\"</text></g><g class=\"g-ytitle\"/><g class=\"g-y2title\"/></g></svg>"
      ]
     },
     "metadata": {},
     "output_type": "display_data"
    }
   ],
   "source": [
    "fig = make_subplots(rows=1, cols=2)\n",
    "\n",
    "fig.add_trace(go.Funnel(name = 'От первого шага',\n",
    "y = (events_by_users_geometry.sort_values('received', ascending=False)['event_name']),\n",
    "x = (events_by_users_geometry.sort_values('received', ascending=False)['received']),\n",
    "textposition = \"inside\",\n",
    "textinfo = \"value+percent initial\",  #value+percent previous+\n",
    "connector = {\"fillcolor\": '#bde0eb'},\n",
    "insidetextfont = {'color': 'white', 'size': 14}), row=1, col=1)\n",
    "\n",
    "fig.add_trace(go.Funnel(name = 'От предыдущего шага',\n",
    "y = (events_by_users_geometry.sort_values('received', ascending=False)['event_name']),\n",
    "x = (events_by_users_geometry.sort_values('received', ascending=False)['received']),\n",
    "textposition = \"inside\",\n",
    "textinfo = \"value+percent previous\",\n",
    "connector = {\"fillcolor\": '#bde0eb'},\n",
    "insidetextfont = {'color': 'white', 'size': 14}), row=1, col=2)\n",
    "\n",
    "fig.update_layout(title_text='Воронка \"Вся геометрия на ЕГЭ\"')\n",
    "fig.show(renderer=\"svg\", width=1000, height=500)"
   ]
  },
  {
   "cell_type": "markdown",
   "id": "5d4eca83",
   "metadata": {},
   "source": [
    "### Выводы и рекомендации\n",
    "\n",
    "- **Доля отписок:** 31.47%;\n",
    "\n",
    "\n",
    "- **Конверсии.** Конверсия в заявку: 2.91%. Продаж с воронки не было. Показатель конверсии в заявку говорит о том, что необходимо проработать УТП и оффер.\n",
    "\n",
    "\n",
    "- **Падает openrate** для \"шагов-кнопок\", где пользователю необходимо совершить действие - нажать на кнопку \"Продолжить\". На мой взгляд большое количество таких шагов выглядит навязчиво. Рекомендую объединить сообщения такие как приветствие и сегментацию, прогревающие видео и предложение \"продолжить воронку\". Для шагов с прогревающим контентом - необходима работа с заголовками, для повышения опенрейта."
   ]
  },
  {
   "cell_type": "markdown",
   "id": "5f5d0c1c",
   "metadata": {},
   "source": [
    "## Общий вывод\n",
    "\n",
    "- Исследование воронок выявило высокий процент отписок, низкие конверсии и снижение опенрейта для шагов, в которых пользователь получает полезный контент. Необходима полная переработка и проведение A/B тестов."
   ]
  }
 ],
 "metadata": {
  "kernelspec": {
   "display_name": "Python 3 (ipykernel)",
   "language": "python",
   "name": "python3"
  },
  "language_info": {
   "codemirror_mode": {
    "name": "ipython",
    "version": 3
   },
   "file_extension": ".py",
   "mimetype": "text/x-python",
   "name": "python",
   "nbconvert_exporter": "python",
   "pygments_lexer": "ipython3",
   "version": "3.9.13"
  }
 },
 "nbformat": 4,
 "nbformat_minor": 5
}
